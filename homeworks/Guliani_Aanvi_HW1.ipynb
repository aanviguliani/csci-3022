{
 "cells": [
  {
   "cell_type": "markdown",
   "metadata": {},
   "source": [
    "<a id='top'></a>\n",
    "\n",
    "# CSCI3022 F20\n",
    "# Homework 1: Data Cleaning and Exploratory Data Analysis \n",
    "***\n",
    "\n",
    "**Name**: Aanvi Guliani\n",
    "\n",
    "***\n",
    "\n",
    "This assignment is due on Canvas by **MIDNIGHT on Friday September 4**. Your solutions to theoretical questions should be done in Markdown directly below the associated question.  Your solutions to computational questions should include any specified Python code and results as well as written commentary on your conclusions.  Remember that you are encouraged to discuss the problems with your classmates, but **you must write all code and solutions on your own**.\n",
    "\n",
    "**NOTES**: \n",
    "\n",
    "- Any relevant data sets should be available on Canvas. To make life easier on the graders if they need to run your code, do not change the relative path names here. Instead, move the files around on your computer.\n",
    "- If you're not familiar with typesetting math directly into Markdown then by all means, do your work on paper first and then typeset it later.  Remember that there is a [reference guide](https://math.meta.stackexchange.com/questions/5020/mathjax-basic-tutorial-and-quick-reference) linked on Canvas on writing math in Markdown. **All** of your written commentary, justifications and mathematical work should be in Markdown.\n",
    "- Because you can technically evaluate notebook cells is a non-linear order, it's a good idea to do Kernel $\\rightarrow$ Restart & Run All as a check before submitting your solutions.  That way if we need to run your code you will know that it will work as expected. \n",
    "- It is **bad form** to make your reader interpret numerical output from your code.  If a question asks you to compute some value from the data you should show your code output **AND** write a summary of the results in Markdown directly below your code. \n",
    "- 95 points of this assignment are in problems.  The remaining 5 are for neatness, style, and overall exposition of both code and text.\n",
    "- This probably goes without saying, but... For any question that asks you to calculate something, you **must show all work and justify your answers to receive credit**. Sparse or nonexistent work will receive sparse or nonexistent credit. \n",
    "\n",
    "---\n",
    "**Shortcuts:**  [Problem 1](#p1) | [Problem 2](#p2) | [Problem 3](#p3) | [Problem 4](#p4) |\n",
    "---"
   ]
  },
  {
   "cell_type": "code",
   "execution_count": 1,
   "metadata": {},
   "outputs": [],
   "source": [
    "import pandas as pd\n",
    "import numpy as np\n",
    "import matplotlib.pylab as plt\n",
    "%matplotlib inline"
   ]
  },
  {
   "cell_type": "markdown",
   "metadata": {},
   "source": [
    "[Back to top](#top)\n",
    "\n",
    "<br>\n",
    "\n",
    "<a/ id='p1'></a>\n",
    "\n",
    "### (20 points) Problem 1: Theory (Sampling)\n",
    "***\n",
    "\n",
    "<img style=\"float: left; width: 200px; padding: 3mm;\" src=\"https://upload.wikimedia.org/wikipedia/commons/5/57/Acme_ballot_box_-_Smithsonian.jpg\" alt=\"A ballot box\"/>  \n",
    "You are the head of a news outlet on election day. You have embedded journalists in key U.S. States in order sample voters at different polling stations in the states. Once your journalists choose a polling station, they monitor the station for the election day. The journalists then report back the number of votes for each candidate, which is recorded in a special App on your phone, called Hippocampus. Overall, your team collected data from 6 polling stations in Alaska, 36 polling stations in Ohio, 12 polling stations in Colorado, 6 polling stations in Iowa, and 42 polling stations from California.\n",
    "\n",
    "You want to get a sense of the average amount of votes for each candidate per polling station, so you use the Hippocampus app to randomly choose 1 polling station in Alaska, 6 polling stations in Ohio, 2 polling stations in Colorado, 1 polling station in Iowa, and 7 polling stations from California.\n",
    "\n",
    "$$ \\quad $$\n",
    "    \n",
    "**Part A:** Identify the following: \n",
    "\n",
    "- the population \n",
    "- the sample frame \n",
    "- the sample \n",
    "- the type of sample \n",
    "- the quantity of interest"
   ]
  },
  {
   "cell_type": "markdown",
   "metadata": {},
   "source": [
    "**Population:** voters in key U.S. states  \n",
    "**Sample Frame:** list of eligible voters in Alaska, Ohio, Colorado, Iowa, and California  \n",
    "**Sample:** chosen polling stations (1 in Alaska, 6 in Ohio, 2 in Colorado, 1 in Iowa, and 7 in California   \n",
    "**Type of Sample:** Cluster Sampling  \n",
    "**Quantity of Interest:** the number of votes for each candidate"
   ]
  },
  {
   "cell_type": "markdown",
   "metadata": {},
   "source": [
    "**Part B:** You repeat your sampling, again using the Hippocampus app. Now, you order the stations alphabetically by State and choose every 3rd data value. \n",
    "    \n",
    "Identify the following: \n",
    "\n",
    "- the population \n",
    "- the sample frame \n",
    "- the sample \n",
    "- the type of sample \n",
    "- the quantity of interest"
   ]
  },
  {
   "cell_type": "markdown",
   "metadata": {},
   "source": [
    "**Population:** voters in key U.S. states  \n",
    "**Sample Frame:** list of eligible voters in Alaska, Ohio, Colorado, Iowa, and California  \n",
    "**Sample:** chosen polling stations (1 in Alaska, 6 in Ohio, 2 in Colorado, 1 in Iowa, and 7 in California   \n",
    "**Type of Sample:** Systematic Sampling  \n",
    "**Quantity of Interest:** the number of votes for each candidate"
   ]
  },
  {
   "cell_type": "markdown",
   "metadata": {},
   "source": [
    "[Back to top](#top)\n",
    "\n",
    "<br>\n",
    "\n",
    "<a/ id='p2'></a>\n",
    "\n",
    "### (20 points) Problem 2: Theory and Computation (Means and Medians)\n",
    "***\n",
    "\n",
    "A method to investigate the sensitivity of the sample mean and sample median to extreme outliers and changes in the dataset is to replace one or more elements in a given dataset by a number $y$ and investigate the effect when $y$ changes. To illustrate this, consider the following dataset:\n",
    " \n",
    "$$  4.2 \\quad 5.1 \\quad 5.0 \\quad y \\quad 3.8 \\quad 4.1 \\quad 5.5 \\quad 1.9 $$\n",
    "\n",
    "\n"
   ]
  },
  {
   "cell_type": "markdown",
   "metadata": {},
   "source": [
    "**Part A:** Compute the sample mean and sample median for $y=1.5$. Then compute both quantities again for $y=6$."
   ]
  },
  {
   "cell_type": "code",
   "execution_count": 2,
   "metadata": {},
   "outputs": [
    {
     "name": "stdout",
     "output_type": "stream",
     "text": [
      "y = 1.5\n",
      "    sample mean:  3.8875\n",
      "    sample median:  4.15\n",
      "\n",
      "y = 6\n",
      "    sample mean:  4.45\n",
      "    sample median:  4.6\n"
     ]
    }
   ],
   "source": [
    "#Reference used for finding operators in python (floor value) https://www.w3schools.com/python/python_operators.asp\n",
    "def calculateSampleMean(listNum):\n",
    "    length = len(listNum)\n",
    "    sumElements = 0\n",
    "    for i in range(0,length):\n",
    "        sumElements += listNum[i]\n",
    "    sampleMean = sumElements / length\n",
    "    return sampleMean\n",
    "def calculateSampleMedian(listNum):\n",
    "    listNum.sort()\n",
    "    #print(\"sorted list \", listNum)\n",
    "    length = len(listNum)\n",
    "    sampleMedian = 0\n",
    "    #case where even number of elements, take average of the two middle elements\n",
    "    if length % 2 == 0:\n",
    "        mid1 = listNum[(length//2)-1]\n",
    "        mid2 = listNum[(length//2)]\n",
    "        sampleMedian = (mid1+mid2) / 2\n",
    "    else:\n",
    "        #median element is the ceiling value of length / 2 (floor + 1)\n",
    "        sampleMedian = listNum[(length//2)]\n",
    "    return sampleMedian\n",
    "\n",
    "#test cases: listA is when y = 1.5 and listB is when y=6\n",
    "listA = [4.2,5.1,5.0,1.5,3.8,4.1,5.5,1.9]\n",
    "listB = [4.2,5.1,5.0,6,3.8,4.1,5.5,1.9]\n",
    "print(\"y = 1.5\")\n",
    "print(\"    sample mean: \", calculateSampleMean(listA))\n",
    "print(\"    sample median: \", calculateSampleMedian(listA))\n",
    "\n",
    "print(\"\")\n",
    "\n",
    "print(\"y = 6\")\n",
    "print(\"    sample mean: \", calculateSampleMean(listB))\n",
    "print(\"    sample median: \", calculateSampleMedian(listB))\n",
    "\n",
    "#testing median for odd number of elements\n",
    "#listC = [4.2,5.1,5.0,3.8,4.1,5.5,1.9]\n",
    "#print(\"sample median of C: \", calculateSampleMedian(listC))"
   ]
  },
  {
   "cell_type": "markdown",
   "metadata": {},
   "source": [
    "**Part B:** Is there a value for $y$ that would make the mean of the data equal to 6? If so, calculate the value of $y$ that makes the mean equal to 6. If not, clearly explain why not.\n",
    "    \n",
    "Is there a value for $y$ that would make the median of the data equal to 6? If so, calculate the values of $y$ that makes the median equal to 6. If not, clearly explain why not."
   ]
  },
  {
   "cell_type": "markdown",
   "metadata": {},
   "source": [
    "**Answer**  \n",
    "Yes, by having a large enough value of y (outlier), it would pull the mean up to a 6. This would be possible when y=18.4. However, there is no value of y that would make the median equal to 6, because this would require 6 to be the middle number in the dataset, and currently the maximum value in the set is 5.5. No y value added would change the median to 6."
   ]
  },
  {
   "cell_type": "markdown",
   "metadata": {},
   "source": [
    "**Part C**: Compute the sample variance and the sample standard deviation for the original dataset given in part A, with $y=6$."
   ]
  },
  {
   "cell_type": "code",
   "execution_count": 3,
   "metadata": {},
   "outputs": [
    {
     "name": "stdout",
     "output_type": "stream",
     "text": [
      "y=6: \n",
      "    sample standard deviation:  1.2727922061357855\n",
      "    sample variance:  1.6199999999999999\n"
     ]
    }
   ],
   "source": [
    "#sample mean helper function (copied from previous problem)\n",
    "def calculateSampleMean(listNum):\n",
    "    length = len(listNum)\n",
    "    sumElements = 0\n",
    "    for i in range(0,length):\n",
    "        sumElements += listNum[i]\n",
    "    sampleMean = sumElements / length\n",
    "    return sampleMean\n",
    "\n",
    "def calculateSampleStdDev(listNum):\n",
    "    mean = calculateSampleMean(listNum)\n",
    "    length = len(listNum)\n",
    "    summation = 0\n",
    "    for i in range(0,length):\n",
    "        summation += ((listNum[i] - mean)**2)\n",
    "    return (((summation)/(length-1))**.5)\n",
    "\n",
    "def calculateSampleVariance(listNum):\n",
    "    mean = calculateSampleMean(listNum)\n",
    "    length = len(listNum)\n",
    "    summation = 0\n",
    "    for i in range(0,length):\n",
    "        summation += ((listNum[i] - mean)**2)\n",
    "    return (summation/(length-1))\n",
    "\n",
    "#test\n",
    "listA = [4.2,5.1,5.0,6,3.8,4.1,5.5,1.9]\n",
    "print(\"y=6: \")\n",
    "print(\"    sample standard deviation: \", calculateSampleStdDev(listA))\n",
    "print(\"    sample variance: \", calculateSampleVariance(listA))"
   ]
  },
  {
   "cell_type": "markdown",
   "metadata": {},
   "source": [
    "**Part D**: Compute the sample median for the following cases: \n",
    "- $y=5$ \n",
    "- $y=50$ \n",
    "- $y=4.36$ \n",
    "- $y \\to \\infty$ \n",
    "- $y \\to -\\infty$"
   ]
  },
  {
   "cell_type": "code",
   "execution_count": 4,
   "metadata": {},
   "outputs": [
    {
     "name": "stdout",
     "output_type": "stream",
     "text": [
      "y=5:  4.6\n",
      "y=50:  4.6\n",
      "y=4.36:  4.28\n",
      "y -> infinity:  4.6\n",
      "y -> -infinity:  4.15\n",
      "\n",
      "Note: As y approaches infinity, only the maximum value is changing, but it will still be the middle or middle two values. The median will remain the same, as long as the added value is greater than the current maximum in the list, whether that's infinity or just 0.1 greater than the max.\n",
      "\n",
      "It's similar as y approaches negative infinity. As long as y is less than the current minimum value in the list, the median will be the same value. In this case if y = -1 or y = -10 or y= -infinity, the median will be the same.\n"
     ]
    }
   ],
   "source": [
    "#Reference for infinity in python: https://www.geeksforgeeks.org/python-infinity/#:~:text=As%20of%202020%2C%20there%20is,to%20represent%20it%20as%20infinity.\n",
    "import math\n",
    "def calculateSampleMedian(listNum):\n",
    "    listNum.sort()\n",
    "    #print(\"sorted list \", listNum)\n",
    "    length = len(listNum)\n",
    "    sampleMedian = 0\n",
    "    #case where even number of elements, take average of the two middle elements\n",
    "    if length % 2 == 0:\n",
    "        mid1 = listNum[(length//2)-1]\n",
    "        mid2 = listNum[(length//2)]\n",
    "        sampleMedian = (mid1+mid2) / 2\n",
    "    else:\n",
    "        #median element is the ceiling value of length / 2 (floor + 1)\n",
    "        sampleMedian = listNum[(length//2)]\n",
    "    return sampleMedian\n",
    "\n",
    "#test cases: \n",
    "#y=5\n",
    "listA = [4.2,5.1,5.0,3.8,4.1,5.5,1.9,5]\n",
    "listB = [4.2,5.1,5.0,3.8,4.1,5.5,1.9,50]\n",
    "listC = [4.2,5.1,5.0,3.8,4.1,5.5,1.9,4.36]\n",
    "listD = [4.2,5.1,5.0,3.8,4.1,5.5,1.9,math.inf]\n",
    "listE = [4.2,5.1,5.0,3.8,4.1,5.5,1.9,-math.inf]\n",
    "\n",
    "\n",
    "print(\"y=5: \", calculateSampleMedian(listA))\n",
    "print(\"y=50: \", calculateSampleMedian(listB))\n",
    "print(\"y=4.36: \", calculateSampleMedian(listC))\n",
    "print(\"y -> infinity: \", calculateSampleMedian(listD))\n",
    "print(\"y -> -infinity: \", calculateSampleMedian(listE))\n",
    "\n",
    "print(\"\")\n",
    "print(\"Note: As y approaches infinity, only the maximum value is changing, but it will still be the middle or middle two values. The median will remain the same, as long as the added value is greater than the current maximum in the list, whether that's infinity or just 0.1 greater than the max.\")\n",
    "print(\"\")\n",
    "print(\"It's similar as y approaches negative infinity. As long as y is less than the current minimum value in the list, the median will be the same value. In this case if y = -1 or y = -10 or y= -infinity, the median will be the same.\")"
   ]
  },
  {
   "cell_type": "markdown",
   "metadata": {},
   "source": [
    "**Part E**: Think about the previous parts, above, and describe in words or mathematical notation the answers to the following two questions:\n",
    "\n",
    "- By varying $y$, what is the set of all the possible values that the sample mean could take on?\n",
    "- By varying $y$, what is the set of all the possible values that the sample median could take on? Specifically, for what sets of $y$ values does the median take on its different possible values?"
   ]
  },
  {
   "cell_type": "markdown",
   "metadata": {},
   "source": [
    "**Answer**  \n",
    "Based on my explanation above, these are the ranges for sample mean and median:  \n",
    "  \n",
    "The set of all possible values sample mean ($\\bar{x}$) is in the following range:  \n",
    "[$\\bar{x}$ as y &#8594; $-\\infty$ , $\\bar{x}$ as y &#8594; $\\infty$]  \n",
    "\n",
    "The set of all possible values sample median is in the following range:  \n",
    "[the median as y &#8594; $-\\infty$ , the median as y &#8594; $\\infty$]  \n"
   ]
  },
  {
   "cell_type": "markdown",
   "metadata": {},
   "source": [
    "**Part F**: Describe in words or mathematical notation, what happens to the sample standard deviation when $y$ is varied in the following ways: \n",
    " \n",
    "- $y \\to \\infty$ \n",
    "- $y \\to \\bar{x}$"
   ]
  },
  {
   "cell_type": "markdown",
   "metadata": {},
   "source": [
    "**Answer**  \n",
    "As $y \\to \\infty$, the standard deviation increases, because there would be more variation and more spread out from the mean. However, as $y \\to \\bar{x}$, the standard deviation decreases, because variation would be less since it's closer to the mean."
   ]
  },
  {
   "cell_type": "markdown",
   "metadata": {},
   "source": [
    "[Back to top](#top)\n",
    "<a/ id='p6'></a>\n",
    "\n",
    "## (20 pts) Problem 3: Computation (Scaling)\n",
    "***\n",
    "Consider the following 3 data sets:\n",
    "\n",
    "`A=[0,1,2,3,4,5,6,7,8,9,10,11,12]`\n",
    "\n",
    "`B=[0,0,0,12,7,18,47,25,0,13,0,35]`\n",
    "\n",
    "`C` is the random data set generated by using `np.random.exponential(scale=43, size=1000)`\n",
    "\n",
    "For each data set, perform the following computations in parts A, B, and C:\n",
    "\n",
    "**Part A:** Compute and print the mean and standard deviation of the data set."
   ]
  },
  {
   "cell_type": "code",
   "execution_count": 5,
   "metadata": {},
   "outputs": [
    {
     "name": "stdout",
     "output_type": "stream",
     "text": [
      "Sample Means: \n",
      "    A:  6.0\n",
      "    B:  13.083333333333334\n",
      "    C:  43.05762205711125\n",
      "\n",
      "Sample Standard Deviations:\n",
      "    A:  3.8944404818493075\n",
      "    B:  15.64061341120571\n",
      "    C:  43.45451799835244\n"
     ]
    }
   ],
   "source": [
    "def calculateSampleStdDev(listNum):\n",
    "    mean = calculateSampleMean(listNum)\n",
    "    length = len(listNum)\n",
    "    summation = 0\n",
    "    for i in range(0,length):\n",
    "        summation += ((listNum[i] - mean)**2)\n",
    "    return (((summation)/(length-1))**.5)\n",
    "\n",
    "#print output\n",
    "A=[0,1,2,3,4,5,6,7,8,9,10,11,12]\n",
    "B=[0,0,0,12,7,18,47,25,0,13,0,35]\n",
    "C = np.random.exponential(scale=43, size=1000)\n",
    "\n",
    "#calculate values for mean and stdev\n",
    "meanA = calculateSampleMean(A)\n",
    "meanB = calculateSampleMean(B)\n",
    "meanC = calculateSampleMean(C)\n",
    "stdDevA = calculateSampleStdDev(A)\n",
    "stdDevB = calculateSampleStdDev(B)\n",
    "stdDevC = calculateSampleStdDev(C)\n",
    "\n",
    "print(\"Sample Means: \")\n",
    "print(\"    A: \", meanA)\n",
    "print(\"    B: \", meanB)\n",
    "print(\"    C: \", meanC)\n",
    "print(\"\")\n",
    "print(\"Sample Standard Deviations:\")\n",
    "print(\"    A: \", stdDevA)\n",
    "print(\"    B: \", stdDevB)\n",
    "print(\"    C: \", stdDevC)"
   ]
  },
  {
   "cell_type": "markdown",
   "metadata": {},
   "source": [
    "**Part B:** Compute and print  the mean and standard deviation of the new data set formed by subtracting the original mean from each observation."
   ]
  },
  {
   "cell_type": "code",
   "execution_count": 6,
   "metadata": {},
   "outputs": [
    {
     "name": "stdout",
     "output_type": "stream",
     "text": [
      "Sample Means: \n",
      "    A:  0.0\n",
      "    B:  -1.1842378929335002e-15\n",
      "    C:  -4.848388357459044e-14\n",
      "\n",
      "Sample Standard Deviations:\n",
      "    A:  3.8944404818493075\n",
      "    B:  15.64061341120571\n",
      "    C:  43.45451799835245\n"
     ]
    }
   ],
   "source": [
    "#Code here\n",
    "def newListPartB(mean,listNum):\n",
    "    length = len(listNum)\n",
    "    for i in range(0,length):\n",
    "        listNum[i] -= mean\n",
    "    return listNum\n",
    "\n",
    "\n",
    "newListA = newListPartB(meanA,A)\n",
    "newListB = newListPartB(meanB,B)\n",
    "newListC = newListPartB(meanC,C)\n",
    "\n",
    "print(\"Sample Means: \")\n",
    "print(\"    A: \", calculateSampleMean(newListA))\n",
    "print(\"    B: \", calculateSampleMean(newListB))\n",
    "print(\"    C: \", calculateSampleMean(newListC))\n",
    "print(\"\")\n",
    "print(\"Sample Standard Deviations:\")\n",
    "print(\"    A: \", calculateSampleStdDev(newListA))\n",
    "print(\"    B: \", calculateSampleStdDev(newListB))\n",
    "print(\"    C: \", calculateSampleStdDev(newListC))\n"
   ]
  },
  {
   "cell_type": "markdown",
   "metadata": {},
   "source": [
    "**Part C:** Compute and print  the mean and standard deviation of the new data set formed by subtracting the original mean from each observation and then dividing by the original standard deviation."
   ]
  },
  {
   "cell_type": "code",
   "execution_count": 7,
   "metadata": {},
   "outputs": [
    {
     "name": "stdout",
     "output_type": "stream",
     "text": [
      "Sample Means: \n",
      "    A:  -1.5406577730392865\n",
      "    B:  -0.836497456292845\n",
      "    C:  -0.9908664056230898\n",
      "\n",
      "Sample Standard Deviations:\n",
      "    A:  1.0\n",
      "    B:  1.0\n",
      "    C:  1.0000000000000004\n"
     ]
    }
   ],
   "source": [
    "#Code here\n",
    "def newListPartC(mean,stdev,listNum):\n",
    "    length = len(listNum)\n",
    "    for i in range(0,length):\n",
    "        listNum[i] = (listNum[i]-mean)/stdev\n",
    "    return listNum\n",
    "\n",
    "newListA2 = newListPartC(meanA,stdDevA,A)\n",
    "newListB2 = newListPartC(meanB,stdDevB,B)\n",
    "newListC2 = newListPartC(meanC,stdDevC,C)\n",
    "\n",
    "print(\"Sample Means: \")\n",
    "print(\"    A: \", calculateSampleMean(newListA2))\n",
    "print(\"    B: \", calculateSampleMean(newListB2))\n",
    "print(\"    C: \", calculateSampleMean(newListC2))\n",
    "print(\"\")\n",
    "print(\"Sample Standard Deviations:\")\n",
    "print(\"    A: \", calculateSampleStdDev(newListA2))\n",
    "print(\"    B: \", calculateSampleStdDev(newListB2))\n",
    "print(\"    C: \", calculateSampleStdDev(newListC2))"
   ]
  },
  {
   "cell_type": "markdown",
   "metadata": {},
   "source": [
    "**Part D:** Why might this result matter?"
   ]
  },
  {
   "cell_type": "markdown",
   "metadata": {},
   "source": [
    "**Answer**  \n",
    "Subtracting the original mean from each element of the list and dividing each element by the original standard deviation (part D) would give us a list of z-scores of each original element (the z-score being the number of standard deviations an element is away from the mean). This is important because it gives us an idea of the spread of the data. If the curve was normal, the sample mean of this data set would be 0, however this is not the case. This tells us that the data is not representative of a normal curve and it shows where the peak of the curve would be. If the mean is negative, it would be skewed left, and if positive, skewed right."
   ]
  },
  {
   "cell_type": "markdown",
   "metadata": {},
   "source": [
    "**Part E:** Looking at each of the 3 data sets, come up with a real-world context where those kind of numbers might make for reasonable observations."
   ]
  },
  {
   "cell_type": "markdown",
   "metadata": {},
   "source": [
    "**Answer**  \n",
    "One example of where this would give a meaningful observation is looking at scores of a math test, where each data set is a different major. One would think that engineering majors would be skewed left, whereas maybe humanities majors would be closer to a normal curve. It would be cool to see the spread and the skewness of this data."
   ]
  },
  {
   "cell_type": "markdown",
   "metadata": {},
   "source": [
    "[Back to top](#top)\n",
    "<a/ id='p4'></a>\n",
    "\n",
    "## (35 pts) Problem 4: Data (monthly patterns)\n",
    "***\n",
    "\n",
    "NOAA's Physical Sciences division (https://www.esrl.noaa.gov/psd) houses an enormous amount of weather data.  Load `BoulderPrecip.csv` from the course page for the last 120 years of monthly precipitation data from Boulder.  Let's take a look!"
   ]
  },
  {
   "cell_type": "code",
   "execution_count": 8,
   "metadata": {},
   "outputs": [
    {
     "data": {
      "text/html": [
       "<div>\n",
       "<style scoped>\n",
       "    .dataframe tbody tr th:only-of-type {\n",
       "        vertical-align: middle;\n",
       "    }\n",
       "\n",
       "    .dataframe tbody tr th {\n",
       "        vertical-align: top;\n",
       "    }\n",
       "\n",
       "    .dataframe thead th {\n",
       "        text-align: right;\n",
       "    }\n",
       "</style>\n",
       "<table border=\"1\" class=\"dataframe\">\n",
       "  <thead>\n",
       "    <tr style=\"text-align: right;\">\n",
       "      <th></th>\n",
       "      <th>Year</th>\n",
       "      <th>JAN</th>\n",
       "      <th>FEB</th>\n",
       "      <th>MAR</th>\n",
       "      <th>APR</th>\n",
       "      <th>MAY</th>\n",
       "      <th>JUN</th>\n",
       "      <th>JUL</th>\n",
       "      <th>AUG</th>\n",
       "      <th>SEP</th>\n",
       "      <th>OCT</th>\n",
       "      <th>NOV</th>\n",
       "      <th>DEC</th>\n",
       "      <th>YEAR TOTAL</th>\n",
       "    </tr>\n",
       "  </thead>\n",
       "  <tbody>\n",
       "    <tr>\n",
       "      <th>0</th>\n",
       "      <td>1900</td>\n",
       "      <td>0.4</td>\n",
       "      <td>1.06</td>\n",
       "      <td>0.75</td>\n",
       "      <td>9.18</td>\n",
       "      <td>1.84</td>\n",
       "      <td>0.49</td>\n",
       "      <td>0.48</td>\n",
       "      <td>0.22</td>\n",
       "      <td>1.54</td>\n",
       "      <td>0.13</td>\n",
       "      <td>0.19</td>\n",
       "      <td>0.61</td>\n",
       "      <td>16.89</td>\n",
       "    </tr>\n",
       "    <tr>\n",
       "      <th>1</th>\n",
       "      <td>1901</td>\n",
       "      <td>0.53</td>\n",
       "      <td>0.3</td>\n",
       "      <td>1.74</td>\n",
       "      <td>3.51</td>\n",
       "      <td>1.62</td>\n",
       "      <td>1.76</td>\n",
       "      <td>0.46</td>\n",
       "      <td>1.69</td>\n",
       "      <td>0.16</td>\n",
       "      <td>0.65</td>\n",
       "      <td>Tr</td>\n",
       "      <td>1.43</td>\n",
       "      <td>13.85</td>\n",
       "    </tr>\n",
       "    <tr>\n",
       "      <th>2</th>\n",
       "      <td>1902</td>\n",
       "      <td>0.37</td>\n",
       "      <td>0.48</td>\n",
       "      <td>1.48</td>\n",
       "      <td>1.01</td>\n",
       "      <td>2.32</td>\n",
       "      <td>1.46</td>\n",
       "      <td>1.26</td>\n",
       "      <td>0.53</td>\n",
       "      <td>5.46</td>\n",
       "      <td>1.44</td>\n",
       "      <td>1.29</td>\n",
       "      <td>1.34</td>\n",
       "      <td>18.44</td>\n",
       "    </tr>\n",
       "    <tr>\n",
       "      <th>3</th>\n",
       "      <td>1903</td>\n",
       "      <td>0.08</td>\n",
       "      <td>1.52</td>\n",
       "      <td>1.45</td>\n",
       "      <td>2.31</td>\n",
       "      <td>2.02</td>\n",
       "      <td>1.87</td>\n",
       "      <td>0.95</td>\n",
       "      <td>1.46</td>\n",
       "      <td>1.31</td>\n",
       "      <td>3.43</td>\n",
       "      <td>0.15</td>\n",
       "      <td>0.16</td>\n",
       "      <td>16.71</td>\n",
       "    </tr>\n",
       "    <tr>\n",
       "      <th>4</th>\n",
       "      <td>1904</td>\n",
       "      <td>0.09</td>\n",
       "      <td>0.31</td>\n",
       "      <td>2.37</td>\n",
       "      <td>1.45</td>\n",
       "      <td>5.35</td>\n",
       "      <td>2.72</td>\n",
       "      <td>1.05</td>\n",
       "      <td>1.00</td>\n",
       "      <td>1.6</td>\n",
       "      <td>1.06</td>\n",
       "      <td>0.08</td>\n",
       "      <td>0.7</td>\n",
       "      <td>17.78</td>\n",
       "    </tr>\n",
       "  </tbody>\n",
       "</table>\n",
       "</div>"
      ],
      "text/plain": [
       "   Year   JAN   FEB   MAR   APR   MAY   JUN   JUL   AUG   SEP   OCT   NOV  \\\n",
       "0  1900   0.4  1.06  0.75  9.18  1.84  0.49  0.48  0.22  1.54  0.13  0.19   \n",
       "1  1901  0.53   0.3  1.74  3.51  1.62  1.76  0.46  1.69  0.16  0.65    Tr   \n",
       "2  1902  0.37  0.48  1.48  1.01  2.32  1.46  1.26  0.53  5.46  1.44  1.29   \n",
       "3  1903  0.08  1.52  1.45  2.31  2.02  1.87  0.95  1.46  1.31  3.43  0.15   \n",
       "4  1904  0.09  0.31  2.37  1.45  5.35  2.72  1.05  1.00   1.6  1.06  0.08   \n",
       "\n",
       "    DEC YEAR TOTAL  \n",
       "0  0.61      16.89  \n",
       "1  1.43      13.85  \n",
       "2  1.34      18.44  \n",
       "3  0.16      16.71  \n",
       "4   0.7      17.78  "
      ]
     },
     "execution_count": 8,
     "metadata": {},
     "output_type": "execute_result"
    }
   ],
   "source": [
    "dfPrecip = pd.read_csv('../Data/BoulderPrecip.csv')\n",
    "dfPrecip.head()"
   ]
  },
  {
   "cell_type": "markdown",
   "metadata": {},
   "source": [
    "**Part A:** SCRUBBING!  Our data set is going to be tough to use for a few reasons.\n",
    "\n",
    "1) When the amount of precipitation was nonzero but too small to be recorded, this data set recorded `tr`.  Replace these with zeroes.\n",
    "\n",
    "2) 2020 isn't over yet!  We have one row at the bottom that isn't fully complete and NA values have been filled into the months that haven't happened yet.  This can wreak havoc on a lot of our methods!  Drop the 2020 data entirely.\n",
    "\n",
    "3) You may have some object typing issues relating to columns that contained both \"Tr\"/\"NA\" and numeric values.  Ensure that Python is treating all of your data as numeric!"
   ]
  },
  {
   "cell_type": "code",
   "execution_count": 9,
   "metadata": {},
   "outputs": [
    {
     "data": {
      "text/html": [
       "<div>\n",
       "<style scoped>\n",
       "    .dataframe tbody tr th:only-of-type {\n",
       "        vertical-align: middle;\n",
       "    }\n",
       "\n",
       "    .dataframe tbody tr th {\n",
       "        vertical-align: top;\n",
       "    }\n",
       "\n",
       "    .dataframe thead th {\n",
       "        text-align: right;\n",
       "    }\n",
       "</style>\n",
       "<table border=\"1\" class=\"dataframe\">\n",
       "  <thead>\n",
       "    <tr style=\"text-align: right;\">\n",
       "      <th></th>\n",
       "      <th>Year</th>\n",
       "      <th>JAN</th>\n",
       "      <th>FEB</th>\n",
       "      <th>MAR</th>\n",
       "      <th>APR</th>\n",
       "      <th>MAY</th>\n",
       "      <th>JUN</th>\n",
       "      <th>JUL</th>\n",
       "      <th>AUG</th>\n",
       "      <th>SEP</th>\n",
       "      <th>OCT</th>\n",
       "      <th>NOV</th>\n",
       "      <th>DEC</th>\n",
       "      <th>YEAR TOTAL</th>\n",
       "    </tr>\n",
       "  </thead>\n",
       "  <tbody>\n",
       "    <tr>\n",
       "      <th>0</th>\n",
       "      <td>1900</td>\n",
       "      <td>0.40</td>\n",
       "      <td>1.06</td>\n",
       "      <td>0.75</td>\n",
       "      <td>9.18</td>\n",
       "      <td>1.84</td>\n",
       "      <td>0.49</td>\n",
       "      <td>0.48</td>\n",
       "      <td>0.22</td>\n",
       "      <td>1.54</td>\n",
       "      <td>0.13</td>\n",
       "      <td>0.19</td>\n",
       "      <td>0.61</td>\n",
       "      <td>16.89</td>\n",
       "    </tr>\n",
       "    <tr>\n",
       "      <th>1</th>\n",
       "      <td>1901</td>\n",
       "      <td>0.53</td>\n",
       "      <td>0.30</td>\n",
       "      <td>1.74</td>\n",
       "      <td>3.51</td>\n",
       "      <td>1.62</td>\n",
       "      <td>1.76</td>\n",
       "      <td>0.46</td>\n",
       "      <td>1.69</td>\n",
       "      <td>0.16</td>\n",
       "      <td>0.65</td>\n",
       "      <td>0.00</td>\n",
       "      <td>1.43</td>\n",
       "      <td>13.85</td>\n",
       "    </tr>\n",
       "    <tr>\n",
       "      <th>2</th>\n",
       "      <td>1902</td>\n",
       "      <td>0.37</td>\n",
       "      <td>0.48</td>\n",
       "      <td>1.48</td>\n",
       "      <td>1.01</td>\n",
       "      <td>2.32</td>\n",
       "      <td>1.46</td>\n",
       "      <td>1.26</td>\n",
       "      <td>0.53</td>\n",
       "      <td>5.46</td>\n",
       "      <td>1.44</td>\n",
       "      <td>1.29</td>\n",
       "      <td>1.34</td>\n",
       "      <td>18.44</td>\n",
       "    </tr>\n",
       "    <tr>\n",
       "      <th>3</th>\n",
       "      <td>1903</td>\n",
       "      <td>0.08</td>\n",
       "      <td>1.52</td>\n",
       "      <td>1.45</td>\n",
       "      <td>2.31</td>\n",
       "      <td>2.02</td>\n",
       "      <td>1.87</td>\n",
       "      <td>0.95</td>\n",
       "      <td>1.46</td>\n",
       "      <td>1.31</td>\n",
       "      <td>3.43</td>\n",
       "      <td>0.15</td>\n",
       "      <td>0.16</td>\n",
       "      <td>16.71</td>\n",
       "    </tr>\n",
       "    <tr>\n",
       "      <th>4</th>\n",
       "      <td>1904</td>\n",
       "      <td>0.09</td>\n",
       "      <td>0.31</td>\n",
       "      <td>2.37</td>\n",
       "      <td>1.45</td>\n",
       "      <td>5.35</td>\n",
       "      <td>2.72</td>\n",
       "      <td>1.05</td>\n",
       "      <td>1.00</td>\n",
       "      <td>1.60</td>\n",
       "      <td>1.06</td>\n",
       "      <td>0.08</td>\n",
       "      <td>0.70</td>\n",
       "      <td>17.78</td>\n",
       "    </tr>\n",
       "  </tbody>\n",
       "</table>\n",
       "</div>"
      ],
      "text/plain": [
       "   Year   JAN   FEB   MAR   APR   MAY   JUN   JUL   AUG   SEP   OCT   NOV  \\\n",
       "0  1900  0.40  1.06  0.75  9.18  1.84  0.49  0.48  0.22  1.54  0.13  0.19   \n",
       "1  1901  0.53  0.30  1.74  3.51  1.62  1.76  0.46  1.69  0.16  0.65  0.00   \n",
       "2  1902  0.37  0.48  1.48  1.01  2.32  1.46  1.26  0.53  5.46  1.44  1.29   \n",
       "3  1903  0.08  1.52  1.45  2.31  2.02  1.87  0.95  1.46  1.31  3.43  0.15   \n",
       "4  1904  0.09  0.31  2.37  1.45  5.35  2.72  1.05  1.00  1.60  1.06  0.08   \n",
       "\n",
       "    DEC YEAR TOTAL  \n",
       "0  0.61      16.89  \n",
       "1  1.43      13.85  \n",
       "2  1.34      18.44  \n",
       "3  0.16      16.71  \n",
       "4  0.70      17.78  "
      ]
     },
     "execution_count": 9,
     "metadata": {},
     "output_type": "execute_result"
    }
   ],
   "source": [
    "#Reference for df.drop: https://pandas.pydata.org/pandas-docs/stable/reference/api/pandas.DataFrame.drop.html\n",
    "#Reference to convert to numeric: https://pandas.pydata.org/pandas-docs/stable/reference/api/pandas.DataFrame.astype.html\n",
    "\n",
    "#create list of months for code readability\n",
    "monthList = ['JAN','FEB','MAR','APR','MAY','JUN','JUL','AUG','SEP','OCT','NOV','DEC']\n",
    "lengthList = len(monthList)\n",
    "\n",
    "#iterate through month list, replace all values in each month column that contain 'Tr'\n",
    "for month in range(0,lengthList):\n",
    "    dfPrecip[monthList[month]] = dfPrecip[monthList[month]].replace(['Tr'],'0')\n",
    "    \n",
    "#find the index where year = 2020, and drop the row\n",
    "index2020 = dfPrecip.index[dfPrecip['Year'] == 2020]\n",
    "dfPrecip = dfPrecip.drop(index2020)\n",
    "\n",
    "#now that we've cleaned up the data, convert the elements in each month column to float value\n",
    "for month in range(0,lengthList):\n",
    "    dfPrecip[monthList[month]] = dfPrecip[monthList[month]].astype(float)\n",
    "\n",
    "\n",
    "#print head to check\n",
    "dfPrecip.head()"
   ]
  },
  {
   "cell_type": "markdown",
   "metadata": {},
   "source": [
    "**Part B:** Generate a series of 12 box plots with month as the x axis and precipitation on the y-axis."
   ]
  },
  {
   "cell_type": "code",
   "execution_count": 10,
   "metadata": {},
   "outputs": [
    {
     "data": {
      "text/plain": [
       "Text(0, 0.5, 'Precipitation')"
      ]
     },
     "execution_count": 10,
     "metadata": {},
     "output_type": "execute_result"
    },
    {
     "data": {
      "image/png": "[encoded data removed]",
      "text/plain": [
       "<Figure size 720x720 with 1 Axes>"
      ]
     },
     "metadata": {
      "needs_background": "light"
     },
     "output_type": "display_data"
    }
   ],
   "source": [
    "#reference: nb03\n",
    "# Initialize figure \n",
    "fig = plt.figure(figsize=(10,10))\n",
    "\n",
    "# Get axis object \n",
    "ax = fig.add_subplot(111)\n",
    "\n",
    "#create boxplot\n",
    "dfPrecip.boxplot(column=['JAN','FEB','MAR','APR','MAY','JUN','JUL','AUG','SEP','OCT','NOV','DEC'])\n",
    "\n",
    "ax.set_title('Precipitation in Boulder', fontsize=18)\n",
    "ax.set_ylabel(\"Precipitation\", fontsize=16)\n"
   ]
  },
  {
   "cell_type": "markdown",
   "metadata": {},
   "source": [
    "\n",
    "**Part C:** Spring is the wet season in Boulder.   But what is Spring?\n",
    "\n",
    "Atmospheric scientists love to group months seasonally, breaking the year into a Winter season including December, January, February; a Spring including March, April, and May; and so forth.\n",
    "\n",
    "The solar year, however, says that Spring runs from near the end of March until near the end of June: let's round at the nearest month and say that it includes the months of April, May and June.\n",
    "\n",
    "Generate a box plot with precipitation on the y-axis and the two possible monthly 'Spring' groupings (March-May versus April-June) as the x-axis."
   ]
  },
  {
   "cell_type": "code",
   "execution_count": 11,
   "metadata": {},
   "outputs": [
    {
     "data": {
      "text/plain": [
       "Text(0, 0.5, 'Precipitation')"
      ]
     },
     "execution_count": 11,
     "metadata": {},
     "output_type": "execute_result"
    },
    {
     "data": {
      "image/png": "[encoded data removed]",
      "text/plain": [
       "<Figure size 720x720 with 1 Axes>"
      ]
     },
     "metadata": {
      "needs_background": "light"
     },
     "output_type": "display_data"
    }
   ],
   "source": [
    "# I hit a wall with trying to figure out the group by function so\n",
    "# my solution was to create two new columns, spring1 and spring2\n",
    "# and sum the values from those specific months, and then use those cols\n",
    "# for the boxplots\n",
    "\n",
    "# Initialize figure \n",
    "fig = plt.figure(figsize=(10,10))\n",
    "\n",
    "# Get axis object \n",
    "ax = fig.add_subplot(111)\n",
    "\n",
    "dfPrecip['Mar-May'] = dfPrecip['MAR'] + dfPrecip['APR'] + dfPrecip['MAY']\n",
    "dfPrecip['Apr-Jun'] = dfPrecip['APR'] + dfPrecip['MAY'] + dfPrecip['JUN']\n",
    "\n",
    "dfPrecip.boxplot(column=['Mar-May','Apr-Jun'])\n",
    "ax.set_title('Precipitation in Boulder', fontsize=18)\n",
    "ax.set_ylabel(\"Precipitation\", fontsize=16)"
   ]
  },
  {
   "cell_type": "markdown",
   "metadata": {},
   "source": [
    "**Part D:** These might look pretty similar!  Highlight and comment on any differences by calculating the mean, standard deviation, and a Tukey five number summary of each classification of Spring.  Is there a reason here to favor one grouping over the other?"
   ]
  },
  {
   "cell_type": "code",
   "execution_count": 12,
   "metadata": {},
   "outputs": [
    {
     "name": "stdout",
     "output_type": "stream",
     "text": [
      "Statistics for Mar - May\n",
      "count    120.00000\n",
      "mean       7.51900\n",
      "std        2.73733\n",
      "min        2.21000\n",
      "25%        5.59750\n",
      "50%        7.10000\n",
      "75%        9.17500\n",
      "max       16.75000\n",
      "Name: Mar-May, dtype: float64\n",
      "\n",
      "Statistics for Apr - Jun\n",
      "count    120.000000\n",
      "mean       7.681917\n",
      "std        2.939852\n",
      "min        3.120000\n",
      "25%        5.222500\n",
      "50%        7.380000\n",
      "75%        9.482500\n",
      "max       19.070000\n",
      "Name: Apr-Jun, dtype: float64\n"
     ]
    }
   ],
   "source": [
    "#use describe function to get the values\n",
    "print(\"Statistics for Mar - May\")\n",
    "print(dfPrecip['Mar-May'].describe())\n",
    "\n",
    "print(\"\")\n",
    "print(\"Statistics for Apr - Jun\")\n",
    "print(dfPrecip['Apr-Jun'].describe())\n"
   ]
  },
  {
   "cell_type": "markdown",
   "metadata": {},
   "source": [
    "**Analysis of Boxplots**  \n",
    "Looking at the two boxplots, it looks like the medians are pretty similar, but the spread is different. For Mar-May, there are two outliers, but the curve would be relatively normal. Apr-Jun on the other hand would be skewed right, with the outliers farther away."
   ]
  },
  {
   "cell_type": "markdown",
   "metadata": {},
   "source": [
    "**Part E:** Create a density histogram of the September precipitation.  Classify and describe this histogram, including discussion of any skewness, multimodality, or outliers.  Find the data point associated with September, 2013, and recreate your histogram with that value in a different color or otherwise clearly marked."
   ]
  },
  {
   "cell_type": "code",
   "execution_count": 13,
   "metadata": {},
   "outputs": [
    {
     "data": {
      "text/plain": [
       "Text(0, 0.5, 'Frequency')"
      ]
     },
     "execution_count": 13,
     "metadata": {},
     "output_type": "execute_result"
    },
    {
     "data": {
      "image/png": "[encoded data removed]",
      "text/plain": [
       "<Figure size 576x288 with 1 Axes>"
      ]
     },
     "metadata": {
      "needs_background": "light"
     },
     "output_type": "display_data"
    }
   ],
   "source": [
    "# Ref: nb03\n",
    "fig, ax = plt.subplots(figsize=(8,4))\n",
    "# Plot histogram with custom colors\n",
    "mycolor =np.array([230,30,130])/255\n",
    "\n",
    "dfPrecip.hist(column=\"SEP\", ax =ax, edgecolor=\"white\", density=True)\n",
    "dfPrecip.hist\n",
    "\n",
    "# Add a title\n",
    "ax.set_title(\"September Precipitation (Boulder)\", fontsize=20)\n",
    "\n",
    "# Add axis labels \n",
    "ax.set_xlabel(\"Precipitation\", fontsize=16)\n",
    "ax.set_ylabel(\"Frequency\", fontsize=16)\n"
   ]
  },
  {
   "cell_type": "markdown",
   "metadata": {},
   "source": [
    "**Analysis of Histogram**  \n",
    "Looking at the histogram, the data is clearly skewed right. The data seems to be relatively condensed (not too spread out), but the last point at the end is clearly an outlier."
   ]
  }
 ],
 "metadata": {
  "kernelspec": {
   "display_name": "Python 3",
   "language": "python",
   "name": "python3"
  },
  "language_info": {
   "codemirror_mode": {
    "name": "ipython",
    "version": 3
   },
   "file_extension": ".py",
   "mimetype": "text/x-python",
   "name": "python",
   "nbconvert_exporter": "python",
   "pygments_lexer": "ipython3",
   "version": "3.8.3"
  }
 },
 "nbformat": 4,
 "nbformat_minor": 2
}
