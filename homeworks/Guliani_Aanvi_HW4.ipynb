{
 "cells": [
  {
   "cell_type": "markdown",
   "metadata": {},
   "source": [
    "#### <a id='top'></a>\n",
    "\n",
    "# Homework 4: Bayes' for Days\n",
    "***\n",
    "\n",
    "**Name**: Aanvi Guliani\n",
    "\n",
    "***\n",
    "\n",
    "This assignment is due on Canvas by **MIDNIGHT on Monday September 28**. Your solutions to theoretical questions should be done in Markdown directly below the associated question.  Your solutions to computational questions should include any specified Python code and results as well as written commentary on your conclusions.  Remember that you are encouraged to discuss the problems with your classmates, but **you must write all code and solutions on your own**.\n",
    "\n",
    "**NOTES**: \n",
    "\n",
    "- Any relevant data sets should be available under the **Data** module on Canvas. To make life easier on the graders if they need to run your code, do not change the relative path names here. Instead, move the files around on your computer.\n",
    "- If you're not familiar with typesetting math directly into Markdown then by all means, do your work on paper first and then typeset it later.  Remember that there is a [reference guide](https://math.meta.stackexchange.com/questions/5020/mathjax-basic-tutorial-and-quick-reference) linked on Canvas on writing math in Markdown. **All** of your written commentary, justifications and mathematical work should be in Markdown.\n",
    "- Because you can technically evaluate notebook cells is a non-linear order, it's a good idea to do Kernel $\\rightarrow$ Restart & Run All as a check before submitting your solutions.  That way if we need to run your code you will know that it will work as expected. \n",
    "- It is **bad form** to make your reader interpret numerical output from your code.  If a question asks you to compute some value from the data you should show your code output **AND** write a summary of the results in Markdown directly below your code. \n",
    "- 95 points of this assignment are in problems.  The remaining 5 are for neatness, style, and overall exposition of both code and text.\n",
    "- This probably goes without saying, but... For any question that asks you to calculate something, you **must show all work and justify your answers to receive credit**. Sparse or nonexistent work will receive sparse or nonexistent credit. \n",
    "\n",
    "---\n",
    "**Shortcuts:**  [Problem 1](#p1) | [Problem 2](#p2) | [Problem 3](#p3) |\n",
    "\n",
    "---"
   ]
  },
  {
   "cell_type": "code",
   "execution_count": 1,
   "metadata": {},
   "outputs": [],
   "source": [
    "import pandas as pd\n",
    "import numpy as np\n",
    "import matplotlib.pylab as plt\n",
    "%matplotlib inline"
   ]
  },
  {
   "cell_type": "markdown",
   "metadata": {},
   "source": [
    "***\n",
    "<a/ id='p1'></a>\n",
    "[Back to top](#top)\n",
    "\n",
    "## (15 pts) Problem 1: Theory (Bayes)\n",
    "***\n",
    "\n"
   ]
  },
  {
   "cell_type": "markdown",
   "metadata": {},
   "source": [
    "To get published in an academic journal, you have to prove something \"interesting.\"  As a result, most academics begin their research by investigating hypotheses that, all else equal, are unlikely to be true.  Suppose each research project begins with a research *hypothesis* that has a 12% chance of being correct.\n",
    "\n",
    "They then perform a study that satisfies the following two properties:\n",
    "\n",
    "    1) The probability that they correctly *find* an important result given that their *hypothesis* is true is 40%\n",
    "    2) The probability that they incorrectly *find* an important result given that their *hypothesis* is false is 5%\n",
    "\n",
    "If they *find* an important result they are published.  What is the probability that their *hypothesis* was true, given that they were published?"
   ]
  },
  {
   "cell_type": "markdown",
   "metadata": {},
   "source": [
    "**Answer**  \n",
    "Let I be the event that they correctly find an important result and H be the event that the hypothesis is true. It is given that the hypothesis has a 12% chance of being correct. Based on this and the two properties, we know that:  \n",
    "$$P(H) = 0.12$$\n",
    "$$P(I \\mid H) = 0.4 $$\n",
    "$$P(I \\mid H^\\complement) = .05$$  \n",
    "Note that in observation 2, they still **find** an important result, so it is $P(I \\mid H^\\complement)$.\n",
    "  \n",
    "We want to find the probability that the hypothesis was true given that they were published. To be published they need to find an important event. Therefore it is given that they find an important result. So we are trying to find:  \n",
    "$$P(H \\mid I)$$  \n",
    "  \n",
    "To find $P(H \\mid I)$, we use Bayes theorem to arrive at this formula:  \n",
    "$$P(H \\mid I) = \\frac{P(I \\mid H)P(H)}{P(I)}$$  \n",
    "\n",
    "We still need to find P(I). We use the law of total probability to find this value:  \n",
    "$$P(I) = P(I \\mid H)P(H) + P(I\\mid H^\\complement)P(H^\\complement)$$\n",
    "$$P(I) = 0.4(0.12) + .05(.88)$$\n",
    "$$P(I) = .092$$  \n",
    "\n",
    "Plugging this back into the original formula, we have:    \n",
    "\n",
    "$$P(H \\mid I) = \\frac{P(I \\mid H)P(H)}{P(I)}$$   \n",
    "$$P(H \\mid I) = \\frac{(0.4)(0.12)}{0.092}$$   \n",
    "$$\\fbox{P(H $\\mid$ I) = 0.5217}$$"
   ]
  },
  {
   "cell_type": "markdown",
   "metadata": {},
   "source": [
    "[Back to top](#top)\n",
    "<a id='p2'></a>\n",
    "\n",
    "## (40 pts) Problem 2: Computation (Iterative Bayes)\n",
    "***\n",
    "\n",
    "You have decided you want to play a game with your roommate. Since you're both in Introduction to Data Science, you have your big bag of mixed dice, and you know you can do something interesting with dice!\n",
    "\n",
    "Unfortunately, you're trying to play while you bake (or maybe you've just come down with the chicken pox like Phoebe), so you're playing while wearing oven mitts that you simply cannot remove. Because of this fact, you can use your hands to pull dice from the bag, but cannot feel the dice.\n",
    "\n",
    "<img style=\"width: 200px; padding: 3mm;\" src=\"https://img.sharetv.com/shows/episodes/standard/204702.jpg\" alt=\"Phoebe with chicken pox in oven mitts\"/>\n",
    "\n",
    "Double unfortunately, you've been trapped in these oven mitts while wearing your ultra comfortable Ostrich Pillow because you were napping! Because of this fact, you also cannot see the dice you pull from the bag.\n",
    "\n",
    "<img style=\"width: 200px; padding: 3mm;\" src=\"https://i.pinimg.com/originals/d7/a3/6a/d7a36ab2216276c17c1b8b575fccad54.jpg\" alt=\"Phoebe with chicken pox in oven mitts\"/>\n",
    "\n",
    "Are you neither baking nor chicken poxed, and your roommate perhaps orchestrated this scenario to make this absurd situation arise? Who can say!\n",
    "\n",
    "In your collection, you own:\n",
    "* 20 fair six-sided dice (**S**), with faces `{1,2,3,4,5,6}`.\n",
    "* 15 fair eight-sided dice (**E**), with faces `{1,2,3,4,5,6,7,8}`.\n",
    "* 3 fair twenty-sided dice(**T**) (faces `{1,2,3,4,...,19,20}`).\n",
    "* 2 fair one-hundred-sided dice (**H**) (faces `{1,2,3,4,...,99,100}`).\n",
    "\n",
    "You and your roommate start to invent a game: you will blindly pull a die from the bag, roll the die, and your roommate will tell you what the result is. You will then guess how many sides - six, eight, twenty, or one hundred - the die you pulled has, and allocate points accordingly.\n",
    "\n",
    "But how many points are appropriate? _You'll need to figure out some probabilities here to determine what's fair!_\n",
    "\n",
    "Work the following problems by hand (or glove) for **Parts A through D and Part G** (but don't be afraid to simulate to check your result!). In **Parts E and F**, follow the instructions as written."
   ]
  },
  {
   "cell_type": "markdown",
   "metadata": {},
   "source": [
    "***\n",
    "**Part A**: You roll your die one time.  What is the probability of the event $R_7$, that you roll a 7?  Include at least 4 decimal places in your answer."
   ]
  },
  {
   "cell_type": "markdown",
   "metadata": {},
   "source": [
    "**Answer**  \n",
    "Because the number of die are uneven, we have to look at not only the probability of the 7 being rolled, but also the probability of choosing the dice where 7 is an option. Let $P(E_7)$ be the probability of a 7 being rolled on the eight sided dice, $P(T_7)$ the probability of rolling a 7 on the twenty sided dice, and $P(H_7)$ the probability of rolling a 7 on the hundred sided dice. Let $P(E)$ be the probability that dice E is picked, $P(T)$ be the probability that dice T is picked, and $P(H)$ be the probability that dice H is picked. The probability of $R_7$ is as follows:  \n",
    "$$P(R_7) = P(E)(E_7) + P(T)P(T_7) + P(H)P(H_7)$$  \n",
    "$$P(R_7) = \\frac{15}{40}(\\frac{1}{8}) + \\frac{3}{40}(\\frac{1}{20}) + \\frac{2}{40}(\\frac{1}{100})$$  \n",
    "$$\\fbox{P($R_7$) = 0.0511}$$"
   ]
  },
  {
   "cell_type": "markdown",
   "metadata": {},
   "source": [
    "***\n",
    "**Part B**: Suppose you roll a 7.  What is the probability that the die you chose from the bag is an Eight-sided die (**E**)? "
   ]
  },
  {
   "cell_type": "markdown",
   "metadata": {},
   "source": [
    "**Answer**  \n",
    "We are looking for $P(E\\mid R_7)$. Using conditional probability rules:  \n",
    "$$P(E \\mid R_7) = \\frac{P(E \\cap R_7)}{P(R_7)}$$  \n",
    "From the previous problem, we already have $P(R_7)$ and $P(E\\cap R_7)$,so using that, we arrive at $P(E\\mid R_7)$:  \n",
    "$$P(E \\mid R_7) = \\frac{\\frac{3}{8}}{\\frac{409}{8000}}$$  \n",
    "$$\\fbox{P(E $\\mid$ $R_7$) = 0.9169}$$  "
   ]
  },
  {
   "cell_type": "markdown",
   "metadata": {},
   "source": [
    "**Part C:**  Are the events $R_7$ and $E$ independent?  Justify your answer **using math**."
   ]
  },
  {
   "cell_type": "markdown",
   "metadata": {},
   "source": [
    "**Answer**  \n",
    "No. If $P(E \\mid R_7) = P(E)$, $R_7$, $E$ and $R_7$ are independent events. We found above that:\n",
    "$$P(E \\mid R_7) = 0.9169$$  \n",
    "We also know that since there are 40 die total and 15 of those are eight sideed:\n",
    "$$P(E) = \\frac{3}{8}$$\n",
    "Because $P(E \\mid R_7) \\neq P(E)$, $R_7$ and $E$ are **dependent**."
   ]
  },
  {
   "cell_type": "markdown",
   "metadata": {},
   "source": [
    "**Part D:**  Suppose you roll your die $n$ times and record each outcome.  Obviously, if you roll 7 or higher you did *not* pick a Six-sided die,  if you roll a 9 or higher you did not pick a Six-sided or an Eight-sided, and if you roll a 21 or higher you must have picked a One-hundred-sided die.\n",
    "\n",
    "But, if you roll $n$ times in a row and get only 1, 2, 3, 4, 5, or 6 you would have a stronger belief that you in fact grabbed one of the Six-sided dice.  Let $L_n$ be the event that you roll $n$ rolls of 1, 2, 3, 4, 5, or 6 in a row.  For example, one possible outcome in $L_3$ is the sequence 2, 3, 1.\n",
    "\n",
    "Given that you roll a single value of 1, 2, 3, 4, 5, or 6, what is the probability that you have grabbed a Six-sided die?  That is, calculate **by hand** $P(S \\mid L_1)$."
   ]
  },
  {
   "cell_type": "markdown",
   "metadata": {},
   "source": [
    "**Answer**  \n",
    "Using Bayes Theorem, the probability of $P(S \\mid L_1)$ is as follows:    \n",
    "$$P(S\\mid L_1) = \\frac{P(L_1\\mid S)P(S)}{P(L_1\\mid S)P(S) + P(L_1\\mid E)P(E) + P(L_1\\mid T)P(T) + P(L_1\\mid H)P(H)}$$  \n",
    "Given that we roll a 6 sided die, we absolutely HAVE to have rolled a 1,2,3,4,5,or 6, so $P(L_1\\mid S)$ = 1. Using this, we plug in the rest of the values into the formula:  \n",
    "$$P(S\\mid L_1) = \\frac{1(\\frac{20}{40})}{1(\\frac{20}{40}) + \\frac{6}{8}(\\frac{15}{40}) + \\frac{6}{20}(\\frac{3}{40}) + \\frac{6}{100}(\\frac{2}{40})}$$\n",
    "\n",
    "$$\\fbox{P(S$\\mid$ $L_1$) = 0.61977068}$$\n",
    "\n"
   ]
  },
  {
   "cell_type": "markdown",
   "metadata": {},
   "source": [
    "**Part E**:  \n",
    "\n",
    "First, work out **by hand** a formula for the probability in general that you are rolling a Six-sided die, given that you have rolled $n$ values in a row that are 1, 2, 3, 4, 5 or 6 (that is, $L_n$).  So you want a formula for $P(S \\mid L_n)$ in terms of $n$.\n",
    "\n",
    "Then, define a function `prob_six` to calculate $P(S \\mid L_n)$.  This function should only take one positive integer argument, $n$.\n",
    "\n",
    "Verify that your function is performing as expected by checking your answer to **Part D**."
   ]
  },
  {
   "cell_type": "markdown",
   "metadata": {},
   "source": [
    "**Answer**  \n",
    "Using Bayes Theorem, the probability of $P(S \\mid L_n)$ is as follows:    \n",
    "$$P(S\\mid L_n) = \\frac{P(L_n\\mid S)P(S)}{P(L_n\\mid S)P(S) + P(L_n\\mid E)P(E) + P(L_n\\mid T)P(T) + P(L_n\\mid H)P(H)}$$\n",
    "\n",
    "We know that $P(L_n\\mid S)$ is 1, since given that we have a 6 sided die, you will always roll 1-6. For "
   ]
  },
  {
   "cell_type": "code",
   "execution_count": 2,
   "metadata": {},
   "outputs": [],
   "source": [
    "def prob_six(n):\n",
    "    # given that you've rolled n values of either 1,2,3,4,5,or 6, P(L_n | S) is always 1\n",
    "    lnGiveS = 1\n",
    "    lnGiveE = (6/8)**n\n",
    "    lnGiveT = (6/20)**n\n",
    "    lnGiveH = (6/100)**n\n",
    "    probS = 20/40\n",
    "    probE = 15/40\n",
    "    probT = 3/40\n",
    "    probH = 2/40\n",
    "    \n",
    "    numerator = lnGiveS * probS\n",
    "    denominator = (lnGiveS * probS) + (lnGiveE * probE) + (lnGiveT * probT) + (lnGiveH * probH)\n",
    "    \n",
    "    return numerator / denominator\n"
   ]
  },
  {
   "cell_type": "markdown",
   "metadata": {},
   "source": [
    "**Part F:**  What is the smallest value of $n$ successive rolls of 1, 2, 3, 4, 5 or 6 that would make you believe that there's a better-than-95% chance that the die you grabbed is Six-sided?  Plugging larger and larger values for $n$ into your `prob_six` function is a very reasonable way to check this."
   ]
  },
  {
   "cell_type": "code",
   "execution_count": 3,
   "metadata": {},
   "outputs": [
    {
     "name": "stdout",
     "output_type": "stream",
     "text": [
      "11\n"
     ]
    }
   ],
   "source": [
    "# initialize n and probability\n",
    "n = 1\n",
    "prob = 0\n",
    "\n",
    "# while the probability <= 0.95, run prob_six n and increment n\n",
    "while prob < 0.95:\n",
    "    prob = prob_six(n)\n",
    "    n+=1\n",
    "\n",
    "print(n)"
   ]
  },
  {
   "cell_type": "markdown",
   "metadata": {},
   "source": [
    "**Answer**  \n",
    "To find the smallest value of n, I used a while loop to to keep running prob_six with incremented values of n as long as the probability is less than 0.95. After running this loop, I found that the smallest value of n successive rolls would be **11**."
   ]
  },
  {
   "cell_type": "markdown",
   "metadata": {},
   "source": [
    "**Part G (BONUS 5 Points):** Now that you have looked at the probability space of your dice bag, outline the rules you would establish for this dice rolling game to make it _actually fun_, or at least somewhat fair. For example, would you allow or disallow rerolling the same die? Would you assign more points for correctly guessing a rarer die, or keep them equal? Would you create a turn-taking system where you pass the oven mitts and Ostrich Pillow back and forth, or give the roller points based on incorrect guesses? Would you implement other ideas? There's a limitless space for invention here - simply discuss how you would add a few rules (at least 3), and how those rules are based on the findings above (or run more probability calculations or simulations below to explore the space)."
   ]
  },
  {
   "cell_type": "markdown",
   "metadata": {},
   "source": [
    "**Answer**  \n",
    "The first rule I would implement is a difference in the way points are given. For each correctly guessed dice, I would give a point for each die that the number is on. For example, if we pull the number 78, there's only one possibility of a die - the hundred sided one - so I would give one point.  \n",
    "For roll values of 1-6, 4 points will be given if the die is guessed correctly, 3 points for roll values of 7-8, 2 points for 9-20, and 1 point for roll values of 21+.  \n",
    "  \n",
    "I would implement a turn-based system, where each person gets 5 die / 5 rolls. To make things interesting, if after 5 rolls you gain more than 7 points, you roll 2 6-sided die. If the two numbers rolled sum up to 7 (the most commonly rolled sum with 6 sided die), you lose half the points you gained. However, if you roll doubles (two of the same value), you double your points. Since there are more 6 and 8 sided die, there would be a higher probability of them being picked. This would eliminate one person gaining too much of a lead on the other while still keeping things fun.\n",
    "\n",
    "Lastly,I would make it so that you cannot roll a die with the same number of faces more than twice in a row. We found above that increasing n successive rolls of 1-6 would lead to a higher chance you've rolled a 6-sided die, and this would make the game a bit more fair."
   ]
  },
  {
   "cell_type": "markdown",
   "metadata": {},
   "source": [
    "[Back to top](#top)\n",
    "\n",
    "<a id='p3'></a>\n",
    "\n",
    "## (40 pts) Problem 3: Simulation (Stochastic Integration)\n",
    "***\n",
    "\n",
    "One really cool application of random variables is using them to approximate integrals/areas - an extension of the estimation of $\\pi$ done in nb04.  The random method of approximating integrals is used frequently in computational science to approximate really difficult integrals that we *never* want to do by hand.  In this exercise you'll figure out how we can do this in practice and test your method on an integral that we could do by hand. "
   ]
  },
  {
   "cell_type": "markdown",
   "metadata": {
    "collapsed": true
   },
   "source": [
    "**Part A.**  Let $L$ be a random variable representing how happy your new desk plant, Fernoulli Jr., is today.  It's measured by the **Lushness Index** (LI).  Suppose the probability density function for $L$ is on a scale from zero to one, and is described by an arcsine function:\n",
    "\n",
    "$$\n",
    "f_L(a) = \\begin{cases}\n",
    "         \\left(\\frac{1}{\\frac{\\pi}{2}-1}\\right)\\sin^{-1}(a) & 0 \\leq a \\leq 1 \\\\\n",
    "         0                           & \\text{otherwise}\n",
    "         \\end{cases}\n",
    "$$\n",
    "\n",
    "A Lushness Index of 1 means Fernoulli Jr. is feeling  well-watered, content, and ready to perform binary statistical experiments.  A Lushness Index of 0 means that your plant is really in need of some more sunlight.  \n",
    "\n",
    "\n",
    "\n",
    "Compute **by hand**, the integral of $f(a)$ for $0 \\leq a \\leq 1/2$.  Write a sentence or two to interpret your result physically, in the context of this problem set-up.\n",
    "\n",
    "*Hint*: this is classically an integral that makes use of the fact that $\\frac{d}{dx} \\sin^{-1}(x)=\\frac{1}{\\sqrt{1-x^2}}$.  That sounds like *\"part\"* of the solution.  You should also probably make sure you take a look at the plot of $f$, making mental note of it's minima, maxima, etc. over that interval."
   ]
  },
  {
   "cell_type": "markdown",
   "metadata": {},
   "source": [
    "**Answer**  \n",
    "Using integration by parts, we can find the integral of $f(a)$ for $0 \\leq a \\leq 1/2$.  \n",
    "Let's first remove the constant coefficient $\\left(\\frac{1}{\\frac{\\pi}{2}-1}\\right)$ and factor that in later.  \n",
    "Let $u = \\sin^{-1}(a)$ and $du = \\frac{1}{\\sqrt{1-a^2}}$\n",
    "$$\\int_{0}^{\\frac{1}{2}} \\sin^{-1}(a) da = asin^{-1}(a ) \\Big|_0^{0.5} - \\int_{0}^{\\frac{1}{2}} \\frac{da}{\\sqrt{x-x^2}}$$  \n",
    "$$\\int_{0}^{\\frac{1}{2}} \\sin^{-1}(a) da = asin^{-1}(a ) \\Big|_0^{0.5} - \\sqrt{1-x^2}\\Big|_0^{0.5}$$  \n",
    "$$\\int_{0}^{\\frac{1}{2}} \\sin^{-1}(a) da = \\frac{\\pi}{12} + \\sqrt{\\frac{3}{4}} - \\sqrt{1}$$  \n",
    "Now we factor in the original coefficient and simplify:  \n",
    "$$\\int_{0}^{\\frac{1}{2}} \\sin^{-1}(a) da = (\\frac{\\pi}{12} + \\sqrt{\\frac{3}{4}} - 1)\\left(\\frac{1}{\\frac{\\pi}{2}-1}\\right)$$  \n",
    "\n",
    "**Interpretation:** This value gives us the probability that the Lushness index is between 0 and 1/2."
   ]
  },
  {
   "cell_type": "markdown",
   "metadata": {},
   "source": [
    "**Part B.** What is the maximum of $f_L(a)$ over the interval $[0,1]$?  For the rest of the problem, we will refer to this value by $m$."
   ]
  },
  {
   "cell_type": "markdown",
   "metadata": {},
   "source": [
    "**Answer**  \n",
    "Looking at the graph, the maximum of $f_L(a)$ over the interval $[0,1]$ occurs when x = 1, with a y value of 2.7519.   \n",
    "$$\\fbox{m = 2.7519}$$"
   ]
  },
  {
   "cell_type": "markdown",
   "metadata": {},
   "source": [
    "**Part C.** Suppose we sample a continuous uniform random variable $X\\sim U(0,1/2)$ and another  random variable $Y \\sim U(0,m)$ and think of them as $x$- and $y$-coordinates of a point in the box $[0,1/2] \\times [0,m]$, or inside the box composed of all points $\\{(x,y)\\,|\\, x \\in [0,1/2], y \\in [0,m]\\}.$  \n",
    "\n",
    "If we compute the ratio of points that fall under the curve $f(x)$ to the total points sampled, what does this value estimate? "
   ]
  },
  {
   "cell_type": "markdown",
   "metadata": {},
   "source": [
    "**Answer**  \n",
    "The ratio of the points that fall under the curve to the total points sampled, it estimates the probability that the point lies under the curve $f(x)$"
   ]
  },
  {
   "cell_type": "markdown",
   "metadata": {},
   "source": [
    "**Part D.** How could we modify the process outlined in **Part B** so that our estimator estimates the value of the desired integral?  If you need inspiration, check out the in-class notebook on Stochastic Simulation (#4), specifically, the exercise where we estimated $\\pi$!"
   ]
  },
  {
   "cell_type": "markdown",
   "metadata": {},
   "source": [
    "**Answer**  \n",
    "If we multiply the probability that it lies under the curve (the ratio from part C) by the given upper bound and m, we will able to estimate the value of the desired integral.\n",
    "$$\\textbf{est} = \\frac{\\text{total points under curve}}{\\text{total points sampled}} * ub * m$$  "
   ]
  },
  {
   "cell_type": "markdown",
   "metadata": {},
   "source": [
    "**Part E.** Complete the function `integrate` below to compute an approximation to the definition integral $\\int_0^{\\text{ub}} f(x)dx$.  Your function should take as arguments:\n",
    "1. `num_samples` -- the number of points to sample,\n",
    "2. `ub` -- a number between $0$ and $1$ that is the upper bound of the integral, and\n",
    "3. `isPlot` -- a Boolean flag for whether or not to display a plot of the results.\n",
    "\n",
    "Your function should return an approximation of the definite integral by sampling $X$ from $U(0,\\text{ub})$ and $Y$ from $U(0,m)$. For each random draw $(X,Y)$, define the random variable $Z$ that represents whether or not the sampled $Y$ value is less than $f(X)$ for the corresponding $X$ value.\n",
    "\n",
    "Your function should perform three tasks: \n",
    "\n",
    "1. return the estimate of the value of the integral,\n",
    "2. return the sample variance of the random variable $Z$ being simulated, using the np.var function, and\n",
    "3. if `isPlot` is True, plot the curve $f(x)$ as well as the location of the points $(X,Y)$, colored according to whether they fall above or below the curve. "
   ]
  },
  {
   "cell_type": "code",
   "execution_count": 4,
   "metadata": {},
   "outputs": [],
   "source": [
    "# GIVEN CODE - Do not change the inputs/outputs or your code will fail unit tests and auto-grading!\n",
    "import math\n",
    "def f(x):\n",
    "    coeff = (math.pi/2)-1\n",
    "    arcSinX = math.asin(x)\n",
    "    return (arcSinX/coeff)\n",
    "def integrate(num_samples, ub, isPlot):\n",
    "    estimate = 0\n",
    "    x = np.random.uniform(0,ub,num_samples)\n",
    "    y = np.random.uniform(0,2.7519,num_samples)\n",
    "    xList = []\n",
    "    yList = []\n",
    "    zList = []\n",
    "    for i in range(0,num_samples):\n",
    "        x = np.random.uniform(0,1)\n",
    "        y = np.random.uniform(0,2.7519)\n",
    "        xList.append(x)\n",
    "        yList.append(y)\n",
    "        fx = f(x)\n",
    "        if y < fx:\n",
    "            zList.append(1)\n",
    "            estimate+=1\n",
    "        else:\n",
    "            zList.append(0)\n",
    "    estimate = (estimate * ub *2.7519) / num_samples \n",
    "    sample_var = np.var(zList)\n",
    "    if isPlot:\n",
    "        # create array of values for original curve\n",
    "        xPlot = np.linspace(0,ub,num_samples)\n",
    "        fcnPlot = []\n",
    "        for i in xPlot:\n",
    "            fcnPlot.append((1/((math.pi/2)-1))*math.asin(i))\n",
    "        \n",
    "        df = pd.DataFrame()\n",
    "        df['x'] = xPlot\n",
    "        df['fx'] = fcnPlot\n",
    "        ax = df.plot(x='x',y='fx')\n",
    "        \n",
    "        for j in range(0,len(xList)):\n",
    "            if zList[j] == 1:\n",
    "                plt.plot(xList[j],yList[j],'ro',color='darkslateblue')\n",
    "            else:\n",
    "                plt.plot(xList[j],yList[j],'ro',color='lightsteelblue')\n",
    "        ax.set_xlabel('X Values')\n",
    "        ax.set_ylabel('Y Values')\n",
    "        ax.set_title(\"Estimation of f(x)\")\n",
    "        plt.show()\n",
    "    return estimate, sample_var"
   ]
  },
  {
   "cell_type": "markdown",
   "metadata": {},
   "source": [
    "**Part F.** Write your own small unit tests!\n",
    "\n",
    "First, what should your `integrate` function output if you plug in `ub=0`? Set that as `int_0_to_0` below.\n",
    "\n",
    "Second, what should your `integrate` function output if you plug in `ub=`1?  (Is this actually a valid pdf?) Set that as `int_0_to_1` below.\n",
    "\n",
    "Then, you can execute the cell below to run two sanity checks. Write out **in math** (like, a definite integral) what each of these two tests is checking and **why** that is a reasonable sanity check.\n",
    "\n",
    "If these two assertions run without fail, then things seem to be working okay. Note that the upper endpoint test involves randomness, so if it fails, try running it a few times. If it fails a lot, then things are probably going wrong."
   ]
  },
  {
   "cell_type": "code",
   "execution_count": 5,
   "metadata": {},
   "outputs": [],
   "source": [
    "# Part 3F Code\n",
    "int_0_to_0  = 0# fill this in!\n",
    "int_0_to_1 = 1# this one too!\n",
    "\n",
    "\n",
    "#---------------------------------------\n",
    "# DO NOT EDIT THIS CELL BELOW HERE\n",
    "#---------------------------------------\n",
    "assert integrate(1000, 0, False)[0]==int_0_to_0, \"Error: lower endpoint test failing\"\n",
    "assert math.isclose(integrate(10000, 1, False)[0],int_0_to_1,abs_tol=0.03), \"Error: upper endpoint test failing\""
   ]
  },
  {
   "cell_type": "markdown",
   "metadata": {},
   "source": [
    "**Answer**  \n",
    "int_0_to_0 should be the integral $\\int_0^{\\text{0}} f(x)dx$, which is 0, and int_0_to_1 should be the $\\int_0^{\\text{ub}} f(x)dx$, which equals 1. This is a reasonable sanity check because they serve as the minimum and maximum values for estimation. "
   ]
  },
  {
   "cell_type": "markdown",
   "metadata": {},
   "source": [
    "**Part G.** Run your simulation with `isPlot=True` and `ub=`$1$ for 1,000 samples so we can see your plot. Then, run your simulation (with `isPlot=False`) with at least 10,000 samples and estimate the value of the given integral. Be sure to leave your cells evaluated for the graders! Does your estimate agree with the exact value of the integral you computed in **Part A**?  As a whole, what advantage does this process offer over actually doing the integral by hand?"
   ]
  },
  {
   "cell_type": "code",
   "execution_count": 6,
   "metadata": {},
   "outputs": [
    {
     "data": {
      "image/png": "[encoded data removed]",
      "text/plain": [
       "<Figure size 432x288 with 1 Axes>"
      ]
     },
     "metadata": {
      "needs_background": "light"
     },
     "output_type": "display_data"
    },
    {
     "data": {
      "text/plain": [
       "(0.9521574, 0.226284)"
      ]
     },
     "execution_count": 6,
     "metadata": {},
     "output_type": "execute_result"
    }
   ],
   "source": [
    "#Integrate, plot, and estimate!\n",
    "integrate(1000,1,True)"
   ]
  },
  {
   "cell_type": "markdown",
   "metadata": {},
   "source": [
    "**Answer**  \n",
    "Our estimate is pretty similar to our value calculated by hand. As a whole, I think this process is useful if the function is complex and it's difficult to calculate the integral by hand. "
   ]
  },
  {
   "cell_type": "code",
   "execution_count": null,
   "metadata": {},
   "outputs": [],
   "source": []
  }
 ],
 "metadata": {
  "kernelspec": {
   "display_name": "Python 3",
   "language": "python",
   "name": "python3"
  },
  "language_info": {
   "codemirror_mode": {
    "name": "ipython",
    "version": 3
   },
   "file_extension": ".py",
   "mimetype": "text/x-python",
   "name": "python",
   "nbconvert_exporter": "python",
   "pygments_lexer": "ipython3",
   "version": "3.8.3"
  }
 },
 "nbformat": 4,
 "nbformat_minor": 2
}
