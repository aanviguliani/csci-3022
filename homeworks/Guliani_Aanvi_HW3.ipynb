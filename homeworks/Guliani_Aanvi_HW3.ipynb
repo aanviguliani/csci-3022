{
 "cells": [
  {
   "cell_type": "markdown",
   "metadata": {},
   "source": [
    "#### <a id='top'></a>\n",
    "\n",
    "# Homework 3: Conditional Probability and Random Choice \n",
    "***\n",
    "\n",
    "**Name**: Aanvi Guliani\n",
    "\n",
    "***\n",
    "\n",
    "This assignment is due on Canvas by **MIDNIGHT on Monday September 21**. Your solutions to theoretical questions should be done in Markdown directly below the associated question.  Your solutions to computational questions should include any specified Python code and results as well as written commentary on your conclusions.  Remember that you are encouraged to discuss the problems with your classmates, but **you must write all code and solutions on your own**.\n",
    "\n",
    "**NOTES**: \n",
    "\n",
    "- Any relevant data sets should be available under the **Data** module on Canvas. To make life easier on the graders if they need to run your code, do not change the relative path names here. Instead, move the files around on your computer.\n",
    "- If you're not familiar with typesetting math directly into Markdown then by all means, do your work on paper first and then typeset it later.  Remember that there is a [reference guide](https://math.meta.stackexchange.com/questions/5020/mathjax-basic-tutorial-and-quick-reference) linked on Canvas on writing math in Markdown. **All** of your written commentary, justifications and mathematical work should be in Markdown.\n",
    "- Because you can technically evaluate notebook cells is a non-linear order, it's a good idea to do Kernel $\\rightarrow$ Restart & Run All as a check before submitting your solutions.  That way if we need to run your code you will know that it will work as expected. \n",
    "- It is **bad form** to make your reader interpret numerical output from your code.  If a question asks you to compute some value from the data you should show your code output **AND** write a summary of the results in Markdown directly below your code. \n",
    "- 95 points of this assignment are in problems.  The remaining 5 are for neatness, style, and overall exposition of both code and text.\n",
    "- This probably goes without saying, but... For any question that asks you to calculate something, you **must show all work and justify your answers to receive credit**. Sparse or nonexistent work will receive sparse or nonexistent credit. \n",
    "\n",
    "---\n",
    "**Shortcuts:**  [Problem 1](#p1) | [Problem 2](#p2) | [Problem 3](#p3) |\n",
    "\n",
    "---"
   ]
  },
  {
   "cell_type": "code",
   "execution_count": 1,
   "metadata": {},
   "outputs": [],
   "source": [
    "import pandas as pd\n",
    "import numpy as np\n",
    "import matplotlib.pylab as plt\n",
    "%matplotlib inline"
   ]
  },
  {
   "cell_type": "markdown",
   "metadata": {},
   "source": [
    "***\n",
    "<a/ id='p1'></a>\n",
    "[Back to top](#top)\n",
    "\n",
    "## (25 pts) Problem 1: Theory (Independence)\n",
    "\n",
    "In the popular video game series Pokémon, players conduct battles between their pokémon (creatures). In the main series of games, these battles are [turn-based](#https://en.wikipedia.org/wiki/Turns,_rounds_and_time-keeping_systems_in_games#Turn-based), similar to a game of checkers, chess, or Go.\n",
    "\n",
    "Let's create a new set of rules for a pokémon duel so they don't have to battle until they faint. For our example, we will look at Pikachu vs. Eevee. Pikachu has a higher base Speed, so they will get to move first.\n",
    "\n",
    "* The duel is composed of an unknown number of rounds (same as Pokémon).\n",
    "* Each round is still turn-based, it consists of Pikachu trying to strike Eevee, then Eevee trying to strike Pikachu.\n",
    "* If Pikachu manages to strike Eevee, then Pikachu is awarded a point, and similarly if Eevee manages to strike Pikachu, then Eevee is awarded a point.\n",
    "* If a round ends in a tie, then Pikachu and Eevee proceed to another round. If a round ends with one pokémon scoring a point but the other one does not, then the pokémon who scored a point wins the duel.\n",
    "\n",
    "Let $U$ be the event that \"Picachu wins the duel\", $F$ be the event that \"the duel ends after the first round of strikes\", and $C$ be the event that \"the duel continues after the first round of strikes\".  Suppose that the result of one strike is independent of the other strikes, Picachu successfully lands their strikes with probability $p$ (based on their accuracy and Eevee's evasiveness), and Eevee similarly lands their strikes with probability $q$."
   ]
  },
  {
   "cell_type": "markdown",
   "metadata": {},
   "source": [
    "**Part A**: The duel will continue until Pikachu or Eevee wins.  What is the sample space $\\Omega$ for this \"experiment\"?  Represent the outcomes of individual strikes by $H$ for a hit and $M$ for a miss. At the very least, your answer should include all of the events in $\\Omega$ that include one or two rounds.\n",
    "\n",
    "HINT: Remember that Pikachu has the first strike in each round!"
   ]
  },
  {
   "cell_type": "markdown",
   "metadata": {},
   "source": [
    "**Answer**  \n",
    "Since the duel continues until Pikachu or Eevee wins, the outcome is the the hits / misses. For round 1, there are 4 outcomes. Either they both hit, they both miss, or one hits and the other misses. For round 2, there are 8 outcomes. They are four strikes in each possible outcome (with round 1 strikes appended to round 2 strikes). Since the only outcomes that would lead to a second round are both hits or both misses (essentially a tie in round 1), the two strikes from round 1 must be HH or MM. These are appended to the possible round 2 strikes (HH, MM, MH, or HM). Thus, the sample space is as follows:    \n",
    "$$Ω = \\{(HH)(HM)(MH)(MM),(HHHH)(HHHM)(HHMH)(HHMM)(MMHH)(MMHM)(MMMH)(MMMM),...\\}$$"
   ]
  },
  {
   "cell_type": "markdown",
   "metadata": {},
   "source": [
    "**Part B**: Determine $P(U \\mid F)$ in terms of $p$ and $q$."
   ]
  },
  {
   "cell_type": "markdown",
   "metadata": {},
   "source": [
    "**Answer**  \n",
    "$U$ and $F$ are independent events, so $P(U \\mid F) = P(U\\cap F)/P(F)$. $P(U\\cap F)$ is the probability that Pikachu wins the duel in the first round, and to win the duel, Pikachu must land a strike and Evee cannot land a strike. Since $p$ is the probability that Pikachu lands a strike and $p$ is the probability that Evee lands a strike, we must find $p$ AND $\\neg q$. Knowing this, the probability is as follows:  \n",
    "$$P(U \\mid F) = \\frac{p (1- q)}{P(F)}$$  \n",
    "\n",
    "However, we also know that P(F) is the probability of HM + the probability of MH, which is:  \n",
    "$$p(1 - q) + q(1 - p)$$  \n",
    "\n",
    "Subbing this in for P(F), we get:\n",
    "\n",
    "$$\\fbox{P(U $\\mid$ F) = $\\frac{p (1- q)}{p(1 - q) + q(1 - p)}$}$$  "
   ]
  },
  {
   "cell_type": "markdown",
   "metadata": {},
   "source": [
    "**Part C**: Explain why events $C$ and $U$ are independent. "
   ]
  },
  {
   "cell_type": "markdown",
   "metadata": {},
   "source": [
    "**Answer**  \n",
    "Two events are independent if the outcome of one event does not affect the outcome of the other. If a duel continues to the next round, the \"score\" resets. If a duel continues (in other words, ends in a tie), the next round is not affected by the fact that the previous duel ended in a tie. Thus, the probability that Picachu wins a duel is not affected if the duel continues for another round, and $C$ and $U$ are independent events."
   ]
  },
  {
   "cell_type": "markdown",
   "metadata": {},
   "source": [
    "**Part D**: Use the Law of Total Probability to show that $P(U) = p(1-q) + (2pq - p - q +1) ~P(U \\mid C)$. "
   ]
  },
  {
   "cell_type": "markdown",
   "metadata": {},
   "source": [
    "**Answer**  \n",
    "The law of total probability states that if $C_1, C_2, ... C_n$ are disjoint events such that $C_1 \\cup C_2 \\cup ... C_n = Ω$ , \n",
    "$$P(A) = P(A\\mid C_1)P(C_1) + P(A\\mid C_2)P(C_2) + ... P(A\\mid C_n)P(C_n)$$  \n",
    "We know that either the duel will continue past the first round or it will end after the first round, so we know that $$F + U = Ω$$  \n",
    "Using this, we know that\n",
    "$$P(U) = P(U\\mid F)P(F) + P(U\\mid C)P(C)$$  \n",
    "Using what we found in part B, we know that $P(U\\mid F) = p(1 - q)/P(F)$, so we sub this into our law of total probability equation.  \n",
    "\n",
    "$$P(U) = \\frac{p(1 - q)}{P(F)}P(F) + P(U\\mid C)P(C)$$  \n",
    "$$P(U) = p(1 - q) + P(U\\mid C)P(C)$$ \n",
    "\n",
    "We also know that P(C) = 1 - P(F) and we know that P(F) = p(1 - q) + q(1 - p), so we can calculate P(C) as follows:\n",
    "$$P(C) = 1 - [p(1 - q) + q(1 - p)]$$ \n",
    "$$P(C) = 1 - [p - pq + q - pq]$$ \n",
    "$$P(C) = 1 - [p + q - 2pq]$$ \n",
    "$$P(C) = 1 - p - q + 2pq$$ \n",
    "$$P(C) = 2pq - p - q + 1$$\n",
    "  \n",
    "We can now sub in this value for P(C) in our law of total probability equation:  \n",
    "$$\\textbf{P(U) = p(1 - q) + (2pq - p - q +1)P(U $\\mid$ C)}$$\n",
    "\n",
    "Using the law of total probability, we have proved that $P(U) = p(1-q) + (2pq - p - q +1) ~P(U \\mid C)$"
   ]
  },
  {
   "cell_type": "markdown",
   "metadata": {},
   "source": [
    "**Part E**: Use the fact from **Part B** that $P(U \\mid C) = P(U)$ to determine $P(U)$ in terms of $p$ and $q$."
   ]
  },
  {
   "cell_type": "markdown",
   "metadata": {},
   "source": [
    "**Answer**  \n",
    "Knowing that that $P(U \\mid C) = P(U)$, we must find $P(U)$. \n",
    "\n",
    "Using the law of total probability equation, we know that $$P(U) = P(U\\mid F)P(F) + P(U\\mid C)P(C)$$  \n",
    "\n",
    "Let's sub in $P(U$) for $P(U \\mid C)$  $$P(U) = P(U\\mid F)P(F) + P(U)P(C)$$\n",
    "  \n",
    "Put like terms on one side and simplify:  $$P(U) - P(U)P(C) = P(U\\mid F)P(F)$$  \n",
    "$$P(U)[1 - P(C)] = P(U\\mid F)P(F)$$  \n",
    "$$P(U) = \\frac{P(U\\mid F)P(F)}{1 - P(C)}$$  \n",
    "\n",
    "We know that $1 - P(C) = P(F)$, so sub that in and simplify.\n",
    "$$P(U) = \\frac{P(U\\mid F)P(F)}{P(F)}$$  \n",
    "$$P(U) = P(U\\mid F)$$\n",
    "\n",
    "We found in part B that $P(U \\mid F) = P(U \\mid F) = \\frac{p (1- q)}{p(1 - q) + q(1 - p)}$, so:  \n",
    "$$\\fbox{P(U) = $\\frac{p (1- q)}{p(1 - q) + q(1 - p)}$}$$  "
   ]
  },
  {
   "cell_type": "markdown",
   "metadata": {},
   "source": [
    "**Part F**: Explain why the answers to **Part B** and **Part E** are the same. "
   ]
  },
  {
   "cell_type": "markdown",
   "metadata": {},
   "source": [
    "**Answer**  \n",
    "The answers to B and E are the same because $U$ and $C$ and $U$ and $F$ are independent from each other. Whether or not the duel continues past the first round has no effect on the probability of Picachu winning the duel, so the probabilities are equal. $P(U) = P(U \\mid F) = P(U \\mid C)$"
   ]
  },
  {
   "cell_type": "markdown",
   "metadata": {},
   "source": [
    "**Part G**: Explain the significance of the solution technique for $P(U)$ outlined in **Part D** and **Part E**.  Why did we go this route instead of computing $P(U)$ directly?  Can we always use such techniques?  What assumption did we need to make in order to use this solution approach?"
   ]
  },
  {
   "cell_type": "markdown",
   "metadata": {},
   "source": [
    "**Answer**  \n",
    "Part D doesn't assume independence while part E assumes that U and C are independent. This is why part D went in a different direction instead of computing P(U) directly. "
   ]
  },
  {
   "cell_type": "markdown",
   "metadata": {},
   "source": [
    "[Back to top](#top)\n",
    "<a id='p2'></a>\n",
    "\n",
    "## (30 pts) Problem 2: Computation (Joker Poker Hands)\n",
    "***\n"
   ]
  },
  {
   "cell_type": "markdown",
   "metadata": {},
   "source": [
    "A common example for discrete counting and probability questions are poker hands.  Consider using a standard 52-card playing deck, with card faces `[A,2,3,4,5,6,7,8,9,10,J,Q,K]` across the standard 4 suits: `[C,D,H,S]`.  For the markdown portions of this problem, you may leave your answer in terms of a ratio of products, but you should simplify away any combinatoric notation such as ${n \\choose k}$ or $P(n,k)$.\n",
    "\n",
    "**Part A:**\n",
    "\n",
    "Suppose we draw 5 cards at random from the deck.  What is the probability that we have a \"3 of a kind:\" a hand with 3 copies of one face card and the other two cards unmatched?"
   ]
  },
  {
   "cell_type": "markdown",
   "metadata": {},
   "source": [
    "**Answer**  \n",
    "If we have to draw 5 cards, there are ${52 \\choose 5}$ combinations total. This will serve as our denominator for the probability.  \n",
    "  \n",
    "Now we have to find how many total combinations there are to get a 3 of a kind. Let {a,b,c} be the three of a kind cards, and {d,e} be the other two cards (they must not equal a,b,or c). There are ${13 \\choose 1}$ ways to choose a,b, and c, since for each suit, there is only one possibility of a card. For d and e, since they cannot be the same as a,b,or c, there are 12 cards to choose from, hence there are ${12 \\choose 2}$ ways to pick d and e. Factoring in the choice of suits, we have 4 suits to choose for the three same cards, or ${4 \\choose 3}$ ways. For d and e, there are ${4 \\choose 1}$ ways.  \n",
    "  \n",
    "Putting this all together, the probability of 3 of a kind is as follows:  \n",
    "  \n",
    "$$ \\frac{{13 \\choose 1}{12 \\choose 2}{4 \\choose 3}{4 \\choose 1}{4 \\choose 1}}{{52 \\choose 5}} $$  \n",
    "\n",
    "$$ = \\frac{54912}{2598960}$$\n",
    "  \n",
    "$$ = \\fbox{0.02112845} $$"
   ]
  },
  {
   "cell_type": "markdown",
   "metadata": {},
   "source": [
    "**Part B:**\n",
    "\n",
    "Suppose we add a single \"Joker\" card to the deck.  The Joker may serve as a copy of any card in the deck, including one already in our hand.  \n",
    "\n",
    "Suppose we draw 5 cards at random from the deck.  What is the probability that we now have \"3 of a kind?\"  This should now include hands with 2 copies of one face and a joker (and the other 2 as non-paired cards)."
   ]
  },
  {
   "cell_type": "markdown",
   "metadata": {},
   "source": [
    "**Answer**  \n",
    "If we add a single joker to the deck, we now have 53 total cards. This means that to draw 5 cards, there are ${53 \\choose 5}$ combinations total.  \n",
    "  \n",
    "The total number of combinations to get three of a kind will equal to the total combinations to get 3 of a kind without a joker (what we found above) added to the number of combinations possible with a joker and a pair. Let {a,b} be the pair, {c} be the joker, and {d,e} be the two \"throwaway\" cards. Similar to the natural three pair, there are ${13 \\choose 1}$ ways to choose a and b. Since there's only one joker, there's one way to pick c. For d and e, there are ${12 \\choose 2}$ combinations. Factoring the choice of suits, we have ${4 \\choose 2}$ ways to pick a and b (4 suits for two cards), and for d and e, there are ${4 \\choose 1}$ ways.  \n",
    "  \n",
    "Putting this all together, the total combinations of a two of a kind and joker is as follows:  \n",
    "  \n",
    "$$ {13 \\choose 1}{12 \\choose 2}{4 \\choose 2}{4 \\choose 1}{4 \\choose 1} $$\n",
    "$$ = 82368$$  \n",
    "  \n",
    "Adding this to the total combinations of a natural 3 of a kind and dividing it by total combinations, the probability is as follows:  \n",
    "\n",
    "$$ = \\frac{54912+82368}{{53 \\choose 5}}$$  \n",
    "  \n",
    "$$ = \\frac{54912+82368}{2869685}$$\n",
    "\n",
    "$$ = \\fbox{0.04783800} $$"
   ]
  },
  {
   "cell_type": "markdown",
   "metadata": {},
   "source": [
    "**Part C:**\n",
    "\n",
    "Write a simulation that draws a hand of 5 cards from a standard 52-card deck.  Repeat this simulation 10000 times, and report how many \"3 of a kind\" hands were observed.  Verify that the result is consistent with your answer to part A."
   ]
  },
  {
   "cell_type": "code",
   "execution_count": 2,
   "metadata": {},
   "outputs": [
    {
     "name": "stdout",
     "output_type": "stream",
     "text": [
      "After running this simulation 10000 times, we got a 3 of a kind hand 227 times.\n",
      "The probability of a 3 of a kind is: 0.0227\n"
     ]
    }
   ],
   "source": [
    "# this code is kind of a unsophisticated / naive simulation but it gets the job done\n",
    "# three functions: draw5Cards() that returns a list of 5 randomized cards \n",
    "# checkTriple, which checks if the list has 3 of the same element\n",
    "# driver() that runs draw5 and checkTriple 10k times and increments a counter if it's a 3OAK\n",
    "\n",
    "# package to randomize card draws\n",
    "import random\n",
    "\n",
    "def draw5Cards():\n",
    "    # array for entire deck - doesn't have suits but it makes it simpler to check if it's three of a kind\n",
    "    cards = ['A','2','3','4','5','6','7','8','9','10','J','Q','K',\n",
    "            'A','2','3','4','5','6','7','8','9','10','J','Q','K',\n",
    "            'A','2','3','4','5','6','7','8','9','10','J','Q','K',\n",
    "            'A','2','3','4','5','6','7','8','9','10','J','Q','K']\n",
    "    # declare array for drawn cards\n",
    "    drawnCards = []\n",
    "    \n",
    "    # declare end index for random. this will decrement every time we remove an array element\n",
    "    # this is to ensure that we don't pick the same card twice\n",
    "    # for range 0,5 pick a random index, append the card to the drawn card list, remove the drawn card from the cards\n",
    "    # list, and decrement index since the size of cards has changed\n",
    "    endIndex = 51\n",
    "    for i in range(0,5):\n",
    "        # get index\n",
    "        randIndex = random.randint(0,endIndex)\n",
    "        drawnCards.append(cards[randIndex])\n",
    "        cards.remove(cards[randIndex])\n",
    "        endIndex = endIndex - 1\n",
    "    \n",
    "    return drawnCards\n",
    "\n",
    "# function to check if three of a kind - returns boolean\n",
    "def checkTriple(cards):\n",
    "    for i in range(0,5):\n",
    "        # loop through the cards list. check how many times cards[i] appears in cards. if it's three, immediately return true\n",
    "        if(cards.count(cards[i])==3):\n",
    "            return True\n",
    "    return False\n",
    "\n",
    "def driver():\n",
    "    threeOfAKindHands = 0\n",
    "    # loop through and draw 5 cards 1000 times, if checkTriple is true, increment the counter\n",
    "    for i in range(0,10000):\n",
    "        cards = draw5Cards()\n",
    "        if(checkTriple(cards)):\n",
    "            #print(cards)\n",
    "            threeOfAKindHands += 1\n",
    "\n",
    "    print(\"After running this simulation 10000 times, we got a 3 of a kind hand\", threeOfAKindHands, \"times.\")\n",
    "    probability = threeOfAKindHands/10000\n",
    "    print(\"The probability of a 3 of a kind is:\", probability)\n",
    "        \n",
    "driver()"
   ]
  },
  {
   "cell_type": "markdown",
   "metadata": {},
   "source": [
    "**Part D:**\n",
    "\n",
    "Write a simulation that draws a hand of 5 cards from a standard 52-card deck where one \"Joker\" card has been added.  Repeat this simulation 10000 times, and report how many \"3 of a kind\" hands were observed.   Verify that the result is consistent with your answer to part B."
   ]
  },
  {
   "cell_type": "code",
   "execution_count": 3,
   "metadata": {},
   "outputs": [
    {
     "name": "stdout",
     "output_type": "stream",
     "text": [
      "After running this simulation 10000 times, we got a 3 of a kind hand 468 times.\n",
      "The probability of a 3 of a kind is: 0.0468\n"
     ]
    }
   ],
   "source": [
    "# similar to above, this simulation has three functions\n",
    "# difference in draw5Joker is that a 'JOKER' is added to the list 'cards'\n",
    "def draw5Joker():\n",
    "     # array for entire deck - doesn't have suits but it makes it simpler to check if it's three of a kind, add joker\n",
    "    cards = ['A','2','3','4','5','6','7','8','9','10','J','Q','K',\n",
    "            'A','2','3','4','5','6','7','8','9','10','J','Q','K',\n",
    "            'A','2','3','4','5','6','7','8','9','10','J','Q','K',\n",
    "            'A','2','3','4','5','6','7','8','9','10','J','Q','K','JOKER']\n",
    "    # declare array for drawn cards\n",
    "    drawnCards = []\n",
    "    \n",
    "    # declare end index for random. this will decrement every time we remove an array element\n",
    "    # this is to ensure that we don't pick the same card twice\n",
    "    endIndex = 52\n",
    "    for i in range(0,5):\n",
    "        # get index\n",
    "        randIndex = random.randint(0,endIndex)\n",
    "        drawnCards.append(cards[randIndex])\n",
    "        cards.remove(cards[randIndex])\n",
    "        endIndex = endIndex - 1\n",
    "    \n",
    "    return drawnCards\n",
    "\n",
    "# function to check if three of a kind, if there's joker in hand, check if there's 2 of a kind - returns boolean\n",
    "def checkTripleJoker(cards):\n",
    "    # create variable count, which tells you how many of a kind to look for in the array based on if joker in hand\n",
    "    if 'JOKER' in cards:\n",
    "        count = 2\n",
    "    else:\n",
    "        count = 3\n",
    "    for i in range(0,5):\n",
    "        # loop through the cards list. check how many times cards[i] appears in cards. if it's three, immediately return true\n",
    "        if(cards.count(cards[i])==count):\n",
    "            return True\n",
    "    return False\n",
    "\n",
    "def driverJoker():\n",
    "    threeOfAKindHands = 0\n",
    "    # loop through and draw 5 cards 10000 times, if checkTriple is true, increment the counter\n",
    "    for i in range(0,10000):\n",
    "        cards = draw5Joker()\n",
    "        if(checkTripleJoker(cards)):\n",
    "            #print(cards)\n",
    "            threeOfAKindHands += 1\n",
    "\n",
    "    print(\"After running this simulation 10000 times, we got a 3 of a kind hand\", threeOfAKindHands, \"times.\")\n",
    "\n",
    "    probability = threeOfAKindHands/10000\n",
    "    print(\"The probability of a 3 of a kind is:\", probability)\n",
    "\n",
    "driverJoker()"
   ]
  },
  {
   "cell_type": "markdown",
   "metadata": {},
   "source": [
    "**Part E:**\n",
    "\n",
    "Write a simulation that draws a hand of 5 cards from a standard 52-card deck with four \"Joker\" cards added.  Repeat this simulation 10000 times, and report how many \"3 of a kind\" hands were observed. (NB: 3 unpaired cards and 2 Jokers is the new case of \"3 of a kind\".)"
   ]
  },
  {
   "cell_type": "code",
   "execution_count": 4,
   "metadata": {},
   "outputs": [
    {
     "name": "stdout",
     "output_type": "stream",
     "text": [
      "After running this simulation 10000 times, we got a 3 of a kind hand 1427 times.\n",
      "The probability of a 3 of a kind is: 0.1427\n"
     ]
    }
   ],
   "source": [
    "# similar to previous sim except 4 jokers added instead of only one\n",
    "# the checkTriple is a bit different - if there's 1 joker, it checks for 2 of a kind similar to last, but if it's 2 jokers, immediately returns true\n",
    "# if three jokers, three of a kind isn't possible so immediately returns false\n",
    "def draw5Joker4():\n",
    "     # array for entire deck - doesn't have suits but it makes it simpler to check if it's three of a kind, add joker\n",
    "    cards = ['A','2','3','4','5','6','7','8','9','10','J','Q','K',\n",
    "            'A','2','3','4','5','6','7','8','9','10','J','Q','K',\n",
    "            'A','2','3','4','5','6','7','8','9','10','J','Q','K',\n",
    "            'A','2','3','4','5','6','7','8','9','10','J','Q','K','JOKER','JOKER','JOKER','JOKER']\n",
    "    # declare array for drawn cards\n",
    "    drawnCards = []\n",
    "    \n",
    "    # declare end index for random. this will decrement every time we remove an array element\n",
    "    # this is to ensure that we don't pick the same card twice\n",
    "    endIndex = 55\n",
    "    for i in range(0,5):\n",
    "        # get index\n",
    "        randIndex = random.randint(0,endIndex)\n",
    "        drawnCards.append(cards[randIndex])\n",
    "        cards.remove(cards[randIndex])\n",
    "        endIndex = endIndex - 1\n",
    "    return drawnCards\n",
    "\n",
    "def checkTripleJoker4(cards):\n",
    "    # create variable count, which tells you how many of a kind to look for in the array based on if joker in hand\n",
    "    if 'JOKER' in cards:\n",
    "        jokerCount = cards.count('JOKER')\n",
    "        if jokerCount == 1:\n",
    "            count = 2\n",
    "        else:\n",
    "            if jokerCount == 2:\n",
    "                return True\n",
    "            else:\n",
    "                return False\n",
    "    else:\n",
    "        count = 3\n",
    "    for i in range(0,5):\n",
    "        # loop through the cards list. check how many times cards[i] appears in cards. if it's three, immediately return true\n",
    "        if(cards.count(cards[i])==count and cards[i] != 'JOKER'):\n",
    "            return True\n",
    "    return False\n",
    "\n",
    "def driverJoker4():\n",
    "    threeOfAKindHands = 0\n",
    "    # loop through and draw 5 cards 1000 times, if checkTriple is true, increment the counter\n",
    "    for i in range(0,10000):\n",
    "        cards = draw5Joker4()\n",
    "        if(checkTripleJoker4(cards)):\n",
    "            #print(cards)\n",
    "            threeOfAKindHands += 1\n",
    "\n",
    "    print(\"After running this simulation 10000 times, we got a 3 of a kind hand\", threeOfAKindHands, \"times.\")\n",
    "    probability = threeOfAKindHands/10000\n",
    "    print(\"The probability of a 3 of a kind is:\", probability)\n",
    "    \n",
    "driverJoker4()"
   ]
  },
  {
   "attachments": {
    "image.png": {
     "image/png": "[encoded data removed]"
    }
   },
   "cell_type": "markdown",
   "metadata": {},
   "source": [
    "[Back to top](#top)\n",
    "\n",
    "<a id='p3'></a>\n",
    "\n",
    "## (40 pts) Problem 3: Simulation\n",
    "*** \n",
    "\n",
    "In this problem you will write some code to simulate the movement of budding Data Scientist Skyler - founder of infamous Skynet - as they navigate their way through the Engineering Center Lobby between classes.  Skyler has 10 minutes to navigate the labryinthine space below:\n",
    "\n",
    "![image.png](attachment:image.png)\n",
    "\n",
    "Skyler starts at the bottom left (SW) corner, a square we will refer to as $(0,0)$, and is trying to reach their next class in the top right (or NE) corner, a square at (4,6) using a standard cartesian system.\n",
    "\n",
    "Skyler, unfortunately, is very disoriented and their movement is partly random.  1/3 of the time Skyler will try to walk North; 1/3 of the time Skyler will try to walk East, and the rest of the time Skyler will split evenly between South and West.\n",
    "\n",
    "Your goal is to figure out what the probability is that Skyler makes it to (4,6) before running out of time, with the following hazards:\n",
    "\n",
    " - Skyler walks at a standard rate of 10 seconds per tile.  If Skyler walks into one of the dark-shaded walls or pillars, they remain where they started, but it still takes 10 seconds.\n",
    "\n",
    " - Someone spilled a foul-smelling energy drink at (2,1).  If Skyler moves into the tile in (2,1), they are completely grossed out.  They move back to the start at (0,0) and spend a little time cleaning their shoes, losing 60 additional seconds beyond the time to originally move into (2,1).\n",
    " \n",
    " - Skyler's data science professor is drinking coffee at (2,3), and Skyler hasn't turned in their homework for a week and a half.  If Skyler walks to that tile, they suffer through some tedious conversation and then shuffle *backwards* from where they came by an extra tile, so if they encountered the professor in a movement from (1,3) to (2,3) they would recoil back to (0,3).  This entire process takes 90 seconds, including all movement.\n",
    " \n",
    " - Skyler's best friend and coding collaborator is at (0,6).  Should Skyler walk there, they will engage in a lengthy conversation, taking 120 seconds, including all movement.\n",
    "\n",
    "\n",
    "\n",
    "<br>\n",
    "\n",
    "**Part A**: Complete the function sky_step below. The function should simulate one step of Skyler's.  It should take as arguments the Skyler's current location on the board as well as the the time elapses, and return Skyler's new location and time elapses after the movement has completed. Note that if Skyler runs out of time, you should return 310 and not any additional wasted time."
   ]
  },
  {
   "cell_type": "code",
   "execution_count": 5,
   "metadata": {},
   "outputs": [],
   "source": [
    "# this is also a naive implementation of the sim, instead of coordinates I implemented using a list of length 2\n",
    "# I predefined locations in sky_step in list form where we would need to do extra movement / time change, and then compared\n",
    "# those two lists to see if they were equal\n",
    "import random\n",
    "def sky_step():\n",
    "    # let location be a list of length 2, location[0] is the x coordinate and location[1] is the y coordinate\n",
    "    # create an array next step, which contains the next steps (N/S/E/W) with it's frequency corresponding w/ the probabilities\n",
    "    next_step = ['N','N','N','N','E','E','E','E','S','S','W','W']\n",
    "    time = 0\n",
    "    location = [0,0]\n",
    "    # define the locations where time will be added or location will be changed\n",
    "    drink = [2,1]\n",
    "    prof = [2,3]\n",
    "    friend = [0,6]\n",
    "    # define the locations where there's a grey square or nowhere to move\n",
    "    s1 = [1,1]\n",
    "    s2 = [3,3]\n",
    "    s3 = [0,5]\n",
    "    s4 = [4,5]\n",
    "    \n",
    "    goal = [4,6]\n",
    "    # count to see if we've ran into the professor (used later)\n",
    "    profCount = 0\n",
    "    \n",
    "    # while loop that keeps going as long as time hasn't run out and we haven't reached class\n",
    "    while time <= 600 and location != goal:\n",
    "        #get the next random location and increment x and y count accordingly\n",
    "        rand = random.randint(0,11)\n",
    "        step = next_step[rand]\n",
    "        x_count = 0\n",
    "        y_count = 0\n",
    "        if step == 'N':\n",
    "            y_count += 1\n",
    "        if step == 'S':\n",
    "            y_count -= 1\n",
    "        if step == 'W':\n",
    "            x_count -= 1\n",
    "        if step == 'E':\n",
    "            x_count += 1\n",
    "        location[0] += x_count\n",
    "        location[1] += y_count\n",
    "\n",
    "        # check if the location is not on a grey square and that it's valid - if not valid, return to the prev. location and run through again\n",
    "        if location[0] < 0 or location[0] > 4 or location[1] < 0 or location[1] > 6 or location == s1 or location == s2 or location == s3 or location == s4:\n",
    "            location[0] -= x_count\n",
    "            location[1] -= y_count\n",
    "            time += 10\n",
    "        # if the location is drink, add 60 seconds and reset to 0,0 location\n",
    "        elif location == drink:\n",
    "            time += 60\n",
    "            location[0] = 0\n",
    "            location[1] = 0\n",
    "        # if location is professor, increment profCount, add 90 seconds, and step back two steps (but step back only 1 if two steps is invalid)\n",
    "        elif location == prof:\n",
    "            profCount += 1\n",
    "            time += 90\n",
    "            newLocation = [0,0]\n",
    "            # go back two steps in the direction you came from, as long as it's valid\n",
    "            if step == 'N':\n",
    "                newLocation = [location[0],location[1]-2]\n",
    "                if newLocation[1] >= 0 and newLocation != s1 and newLocation != s2 and newLocation != s3 and newLocation != s4:\n",
    "                    location[1] -= 2\n",
    "                else:\n",
    "                    location[1] -= 1\n",
    "            elif step == 'S':\n",
    "                newLocation = [location[0],location[1]+2]\n",
    "                if newLocation[1] <= 6 and newLocation != s1 and newLocation != s2 and newLocation != s3 and newLocation != s4:\n",
    "                    location[1] += 2\n",
    "                else:\n",
    "                    location[1] += 1\n",
    "            elif step == 'W':\n",
    "                newLocation = [location[0]+2,location[1]]\n",
    "                if newLocation[0] <= 4 and newLocation != s1 and newLocation != s2 and newLocation != s3 and newLocation != s4:\n",
    "                    location[0] += 2\n",
    "                else:\n",
    "                    location[0] += 1\n",
    "            elif step == 'E':\n",
    "                newLocation = [location[0]-2,location[1]]\n",
    "                if newLocation[0] >= 0 and newLocation != s1 and newLocation != s2 and newLocation != s3 and newLocation != s4:\n",
    "                    location[0] -= 2\n",
    "                else:\n",
    "                    location[0] -= 1\n",
    "        # if location is friend, add 120 seconds\n",
    "        elif location == friend:\n",
    "            time += 120\n",
    "        # normal square, add 10 seconds\n",
    "        else:\n",
    "            time += 10\n",
    "    # boolean value for profCount (used a counter instead of a boolean initially because values would change in the loop)\n",
    "    if profCount >= 1:\n",
    "        isProf = True\n",
    "    else:\n",
    "        isProf = False\n",
    "    # if over time, return 310 along with location and isProf\n",
    "    if time >= 600 or location != goal:\n",
    "        return location,310,isProf\n",
    "    # else, return values normally\n",
    "    return location, time, isProf\n",
    "\n",
    "    \n",
    "    "
   ]
  },
  {
   "cell_type": "markdown",
   "metadata": {},
   "source": [
    "**Part B**: Use your function from **Part A** to simulate at least 10000 of Skyler's 10-minute trips through the Engineering Lobby and make a frequency histogram of the Skyler's time elapsed at the end of your simulation (including instances where they did not make it in time)."
   ]
  },
  {
   "cell_type": "code",
   "execution_count": 6,
   "metadata": {},
   "outputs": [],
   "source": [
    "#Simulation for Part B\n",
    "location = 0\n",
    "time = 0\n",
    "timeArray = []\n",
    "isReached = []\n",
    "count = 0\n",
    "profAndReached = 0\n",
    "profCount = 0\n",
    "\n",
    "# run through 10k times, append values of time and ifReached to a list\n",
    "# for profcount, if prof. was met and reached in time, increment profAndReached and profCount, else, if is prof, only increment profCount\n",
    "# ^ these will be used later\n",
    "for i in range(0,10000):\n",
    "    location,time,isProf = sky_step()\n",
    "    timeArray.append(time)\n",
    "    if location == [4,6] and time <= 600:\n",
    "        if(isProf):\n",
    "            profAndReached += 1\n",
    "            profCount += 1\n",
    "        isReached.append(1)\n",
    "        count += 1\n",
    "    else:\n",
    "        if(isProf):\n",
    "            profCount += 1\n",
    "        isReached.append(0)\n",
    "# create a data frame in pandas with the timeArray and isReached to create a histogram later\n",
    "df = pd.DataFrame({'time':timeArray, 'reached':isReached})"
   ]
  },
  {
   "cell_type": "code",
   "execution_count": 11,
   "metadata": {},
   "outputs": [
    {
     "data": {
      "image/png": "[encoded data removed]",
      "text/plain": [
       "<Figure size 432x288 with 1 Axes>"
      ]
     },
     "metadata": {
      "needs_background": "light"
     },
     "output_type": "display_data"
    }
   ],
   "source": [
    "#Frequency histogram\n",
    "my_bins = range(100,700,100)\n",
    "reached = df['time']\n",
    "notReached = df[df['reached'] == 0]['time']\n",
    "\n",
    "# use matplotlib to plot the histogram with alpha of .7 to make slightly transparent\n",
    "plt.hist(reached, my_bins, color='navy', alpha=0.7)\n",
    "#plt.hist(notReached, my_bins, label='Did not Reach', color = 'skyblue', alpha=0.7)\n",
    "#plt.legend(loc='upper right')\n",
    "plt.show()"
   ]
  },
  {
   "cell_type": "markdown",
   "metadata": {},
   "source": [
    "**Part C**: Use your code from **Part A** to estimate the probability that Skyler makes it to class on time."
   ]
  },
  {
   "cell_type": "code",
   "execution_count": 8,
   "metadata": {},
   "outputs": [
    {
     "name": "stdout",
     "output_type": "stream",
     "text": [
      "The probability that Skyler makes it to class on time is: 0.3819\n"
     ]
    }
   ],
   "source": [
    "# in the loop, we had a variable called count, which counted the number of times isReached is true\n",
    "probability = count / 10000\n",
    "print(\"The probability that Skyler makes it to class on time is:\", probability)"
   ]
  },
  {
   "cell_type": "markdown",
   "metadata": {},
   "source": [
    "**Part D**: Use your code from **Part A** to estimate the probability that Skyler makes it to class on time _given_ that they talked to their Data Science professor.  Is Skyler more or less likely to make it on time if they talk to their Data Science Professor?"
   ]
  },
  {
   "cell_type": "markdown",
   "metadata": {},
   "source": [
    "**Answer**  \n",
    "Based on the code output below, it looks like Skyler is less likely to make it on time if they talked to their data science professor."
   ]
  },
  {
   "cell_type": "code",
   "execution_count": 9,
   "metadata": {},
   "outputs": [
    {
     "name": "stdout",
     "output_type": "stream",
     "text": [
      "The probability that Skyler makes it to class given that they talked to the professor is 0.27911946997221626\n"
     ]
    }
   ],
   "source": [
    "# edit code for part A to add a boolean variable of whether or not they landed on the square for the data science professor\n",
    "# then calculate the conditional probability (P(onTime and prof)/P(prof))\n",
    "pProf = profCount / 10000\n",
    "pBoth = profAndReached / 10000\n",
    "timeGivenProf = (pBoth / pProf)\n",
    "print(\"The probability that Skyler makes it to class given that they talked to the professor is\",timeGivenProf)"
   ]
  },
  {
   "cell_type": "markdown",
   "metadata": {},
   "source": [
    "**Part E**: Use your code from **Part A** to estimate the probability (either directly or using Bayes' Rule) that Skyler talked to their Data Science professor, given that Skyler made it to class on time."
   ]
  },
  {
   "cell_type": "code",
   "execution_count": 10,
   "metadata": {},
   "outputs": [
    {
     "name": "stdout",
     "output_type": "stream",
     "text": [
      "The probability that Skyler talked to the professor given that they made it on time is 0.341974338832155\n"
     ]
    }
   ],
   "source": [
    "#we have the probability that skyler talked to the professor and made it on time and the probability that skyler made it on time\n",
    "profGivenTime = pBoth / probability\n",
    "\n",
    "print(\"The probability that Skyler talked to the professor given that they made it on time is\",profGivenTime)"
   ]
  },
  {
   "cell_type": "markdown",
   "metadata": {},
   "source": [
    "**Answer**  \n",
    "Based on the code output above, the probability that Skyler talked to the professor given that they made it on time is **0.33**"
   ]
  },
  {
   "cell_type": "markdown",
   "metadata": {},
   "source": []
  }
 ],
 "metadata": {
  "kernelspec": {
   "display_name": "Python 3",
   "language": "python",
   "name": "python3"
  },
  "language_info": {
   "codemirror_mode": {
    "name": "ipython",
    "version": 3
   },
   "file_extension": ".py",
   "mimetype": "text/x-python",
   "name": "python",
   "nbconvert_exporter": "python",
   "pygments_lexer": "ipython3",
   "version": "3.8.3"
  }
 },
 "nbformat": 4,
 "nbformat_minor": 2
}
